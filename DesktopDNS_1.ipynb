{
 "cells": [
  {
   "cell_type": "markdown",
   "metadata": {},
   "source": [
    "# Desktop DNS Notebook 1\n",
    "\n",
    "This notebook and associated python code has been written by \n",
    "Andrew Wheeler, Engineering Department, University of Cambridge, aw329@cam.ac.uk\n",
    "\n",
    "3DNS is a high-order DNS/LES solver suitable for turbomachinery and internal flows. The numerical scheme uses a 4-th order finite-difference discretization (Tamm & Webb) with an 8th order filter. Time integration is achieved with a 4-step Runge-Kutta cycle.\n",
    "\n",
    "In this notebook, you will learn how to: \n",
    "* set-up an initial mesh and case files;\n",
    "* run a case in 2D on your local machine;\n",
    "* view the flow files\n",
    "\n",
    "The example used here is for the 'Harrison' turbine blade cascade.  \n",
    "\n",
    "## 1.1 Read in the profile\n",
    "First we read in the blade profile. The format for the profile file is:\n",
    "\n",
    "number of points\\\n",
    "pitch\\\n",
    "x y\n",
    "\n",
    "In the script below, the coordinates are shifted so that the leading-edge is the origin, and scaled so that the axial chord is 1. It is good practise to normalize the geometry in this way. When setting the geometry, it is then relatively easy to set the computational mesh and topology set-up based on the axial chord.\n"
   ]
  },
  {
   "cell_type": "code",
   "execution_count": 1,
   "metadata": {},
   "outputs": [],
   "source": [
    "%reload_ext autoreload\n",
    "%autoreload 2\n"
   ]
  },
  {
   "cell_type": "code",
   "execution_count": 59,
   "metadata": {},
   "outputs": [
    {
     "data": {
      "text/plain": [
       "<function matplotlib.pyplot.show(close=None, block=None)>"
      ]
     },
     "execution_count": 59,
     "metadata": {},
     "output_type": "execute_result"
    },
    {
     "data": {
      "image/png": "[encoded data removed]",
      "text/plain": [
       "<Figure size 432x288 with 1 Axes>"
      ]
     },
     "metadata": {
      "needs_background": "light"
     },
     "output_type": "display_data"
    }
   ],
   "source": [
    "import matplotlib.pyplot as plt\n",
    "from meshing.read_profile   import *\n",
    "# pop-out figures\n",
    "#%matplotlib qt\n",
    "%matplotlib inline\n",
    "\n",
    "# read in profile and normalize so that Cax=1.0 (normalization set to 'True')\n",
    "xprof,yprof,pitch,stag=read_profile('geom/profile.txt',True)\n",
    "\n",
    "# plot the profile to check\n",
    "plt.figure(1)\n",
    "plt.plot(xprof,yprof,'-k')\n",
    "plt.axis('equal')\n",
    "plt.show"
   ]
  },
  {
   "cell_type": "markdown",
   "metadata": {},
   "source": [
    "When reading-in your own profile, you should check that the profile is well defined- are there sufficient points? is the surface curvature smooth? Check regions such as the trailing-edge and leading edge, and plot the curvature. \n",
    "\n",
    "This is particularly important for high-order finite difference schemes, where surface and mesh quality are very important.\n",
    "\n",
    "In some cases you may need to re-generate the profile to ensure smoothness. \n",
    "\n",
    "***"
   ]
  },
  {
   "cell_type": "markdown",
   "metadata": {},
   "source": [
    "## 1.2 Generate the topology and mesh\n",
    "\n",
    "We first create a coarse mesh, defining the multi-block topology. A poisson solver is used to create a smooth multi-block mesh. It is much better to solve for the block boundaries using a very coarse mesh, and then refine this mesh, rather than solving for the block boundaries on a fine mesh.\n",
    "\n",
    "This may take a few minutes. Wait for the cell to complete before moving to the next cell.\n",
    "\n",
    "Now we can refine the mesh to create a baseline mesh for our initial simulations.\n",
    "\n",
    "This may take a few minutes, depending on the level of refinement and smoothing iterations.\n",
    "\n",
    "* It is best to start off with a relatively coarse mesh, even at this stage, when getting a new case established- so don't be too keen to ramp up the refinement factor at this point.\n",
    "\n",
    "* Once you've got a coarse simulation running, it is relatively straight forward to interpolate this solution onto a finer a mesh and continue running. \n",
    "\n",
    "* Running a baseline case on a coarse mesh is useful because a lot of compute cost can be wasted in getting through transients and establishing a steady-state flow.\n"
   ]
  },
  {
   "cell_type": "code",
   "execution_count": 64,
   "metadata": {
    "scrolled": true
   },
   "outputs": [
    {
     "name": "stdout",
     "output_type": "stream",
     "text": [
      "Writing inputs for 3dns_gpu\n",
      "Total ij points\n",
      "259504\n",
      "Total GPUs\n",
      "1\n",
      "Time:  133.99863211804768\n"
     ]
    }
   ],
   "source": [
    "\n",
    "\n",
    "from meshing.blade_mesher import *\n",
    "import timeit\n",
    "\n",
    "# pop-out figures\n",
    "%matplotlib qt\n",
    "#%matplotlib inline\n",
    "\n",
    "# inilitialize dictionaries\n",
    "mesh   = {}\n",
    "bcs    = {}\n",
    "gas    = {}\n",
    "solver = {}\n",
    "\n",
    "# case name and profile coordinates\n",
    "casename = 'notebook1'\n",
    "mesh['case'] = casename\n",
    "mesh['profile'] = 'geom/profile.txt'\n",
    "\n",
    "# initial mesh inputs\n",
    "mesh['npp'] = 2*[None]\n",
    "mesh['ywall'] = 2*[None]\n",
    "mesh['msmooths'] = 2*[None]\n",
    "\n",
    "mesh['npp'][0] = 4\n",
    "mesh['Lup'] = 1.0\n",
    "mesh['Ldn'] = 1.0\n",
    "mesh['Lo'] = 0.2\n",
    "mesh['ywall'][0] = 0.04/150\n",
    "mesh['msmooths'][0] = 500\n",
    "mesh['cor_fac'] = 0.75 # factor shrinking multi-block corner cells - lower values give more shrinkage.\n",
    "\n",
    "# final mesh inputs\n",
    "mesh['npp'][1] = 28\n",
    "mesh['refine_fac'] = 2 # 4\n",
    "mesh['ywall'][1] =  0.01/150 # 0.01/150\n",
    "mesh['msmooths'][1] = 100\n",
    "\n",
    "# scale factor if used (set to 1.0 if not)\n",
    "mesh['scale_factor'] = 1.0\n",
    "\n",
    "# flip y coordinates\n",
    "mesh['flip'] = 1\n",
    "\n",
    "# solver inputs [SI-units]\n",
    "\n",
    "# boundary conditions\n",
    "bcs['Toin'] = 300.0 #K, initial guess of inlet total temp.\n",
    "bcs['Poin'] = 100000.0 #Pa, initial guess of inlet total p.\n",
    "bcs['pexit'] = 98590.0 #Pa, exit static p. \n",
    "bcs['vin'] = 70.0 #m/s, inlet velocity\n",
    "bcs['alpha'] =  50.23 #degrees, inlet yaw angle  \n",
    "bcs['gamma'] = 0.0 #degrees, inlet pitch angle\n",
    "bcs['aturb'] = 0.0 # amplification factor for turbulence\n",
    "bcs['lturb'] = 0 # not used\n",
    "bcs['ilength'] = 500 # inlet turbulence generation frequency (no. steps)\n",
    "bcs['radprof'] = 0 # impose spanwise profile when = 1.\n",
    "bcs['twall'] = -1.0 # not used\n",
    "bcs['cax'] = 1.0 # not used\n",
    "\n",
    "\n",
    "# gas properties\n",
    "gas['gamma']=1.4   # adiabatic exponent\n",
    "gas['cp'] = 1005.0 # J/kg/K\n",
    "gas['mu_ref'] = 3.2e-4 # scale ref. viscosity to match Re\n",
    "gas['mu_tref'] = 273.0 # Sutherland's Tref\n",
    "gas['mu_cref'] = 110.4 # Sutherland's Cref\n",
    "gas['pr'] = 0.72 # Prandtl number\n",
    "\n",
    "\n",
    "# solver inputs\n",
    "solver['niter'] = 100000\n",
    "solver['nwrite'] = 1000\n",
    "solver['ncut'] = 10000000 # write cut file frequency    \n",
    "solver['cfl'] = 1.0\n",
    "solver['sigma'] = 0.03 # filter coefficient\n",
    "    \n",
    "solver['irestart'] = 0 # no re-start\n",
    "solver['span'] = 0.2 # spanwise extent for 3D calcs - typically 10-20% of chord\n",
    "solver['fexpan'] = 1.0 # must be 1.0\n",
    "\n",
    "solver['nk'] = 1 # spanwise points for 3D calculation \n",
    "solver['npp'] = 1 # not used for gpu version\n",
    "solver['istats'] = 0 # 0=no time averaging, 1=3D time average, 2=2D time average\n",
    "solver['version'] = 'gpu' # write inputs for gpu version of the solver\n",
    "                \n",
    "# define block groups for each GPU card\n",
    "block_groups = 1*[None] # 1 block group \n",
    "# blocks in each block group\n",
    "block_groups[0] = {}\n",
    "block_groups[0]['blocks'] = [1,2,3,4,5,6,7,8,9]\n",
    "solver['block_groups'] = block_groups\n",
    "solver['nkproc'] = 1 # GPUs in spanwise direction\n",
    "\n",
    "total_GPUs = solver['nkproc']*len(block_groups) # total number of GPUs\n",
    "            \n",
    "start = timeit.default_timer()\n",
    "\n",
    "# create mesh and initial case files\n",
    "blk = blade_mesher(mesh,bcs,gas,solver)\n",
    "\n",
    "stop = timeit.default_timer()\n",
    "\n",
    "print('Time: ', stop - start)  \n",
    "\n"
   ]
  },
  {
   "cell_type": "markdown",
   "metadata": {},
   "source": [
    "## 1.4 Create the case files\n",
    "Now we're ready to create case files for the 3DNS solver with the baseline mesh. \n",
    "\n",
    "* These set-up a 2D case. We will start with a 2D case. Later we will extrude the solution in the spanwise direction to run a 3D case once we have a 2D flow established. This reduces the compute cost of the initial transient. \n",
    "\n",
    "* We'll set-up a case running at low Reynolds number, by running with an increased viscosity. Again, this helps us to run on a coarse mesh so that we can race through the pressure transients.\n",
    "\n",
    "* The solver uses characteristic boundary conditions, which determine the rates of change of the flow properties at the inlet and exit. The way these are implemented is to fix the inlet entropy and inlet velocity. This means that the inlet stagnation conditions are only weakly imposed- the values inputted in the input file below set an initial state. \n",
    "\n",
    "* Later you can check what the stagnation conditions at inlet converge to once the flow has reached a statistically converged state. \n",
    "\n",
    "* When setting your boundary conditions below, make sure that the inlet velocity is compatible with the pressure ratio chosen- otherwise you can set-up a horrendous transient which will take a long time to settle down.\n"
   ]
  },
  {
   "cell_type": "markdown",
   "metadata": {},
   "source": [
    "### Create initial guess using streamline curvature method"
   ]
  },
  {
   "cell_type": "code",
   "execution_count": 65,
   "metadata": {
    "scrolled": false
   },
   "outputs": [
    {
     "name": "stdout",
     "output_type": "stream",
     "text": [
      "gpu input file found\n",
      "2\n",
      "gpu input file found\n",
      "2\n"
     ]
    }
   ],
   "source": [
    "#%reload_ext autoreload\n",
    "#%autoreload 2\n",
    "from meshing.initial_guess import *\n",
    "from meshing.write_flo import *\n",
    "from meshing.read_case import *\n",
    "from meshing.write_case import *\n",
    "\n",
    "casename = 'notebook1'\n",
    "\n",
    "# read casefiles\n",
    "case = read_case(casename)\n",
    "\n",
    "# create initial guess (last two integers define the streamline curvature grid dims)\n",
    "prop = initial_guess(mesh,blk,bcs,gas,30,20)\n",
    "\n",
    "# write initial flow files\n",
    "write_flo(prop,casename)\n",
    "\n"
   ]
  },
  {
   "cell_type": "markdown",
   "metadata": {},
   "source": [
    "### Check initial flow and exit pressure. Update case files"
   ]
  },
  {
   "cell_type": "code",
   "execution_count": 67,
   "metadata": {},
   "outputs": [
    {
     "name": "stdout",
     "output_type": "stream",
     "text": [
      "gpu input file found\n",
      "2\n",
      "initial guess for pexit =  98554.27995290657 Pa\n",
      "pexit in case file =  98554.0 Pa\n",
      "initial guess for poin =  100071.10281923715 Pa\n",
      "Poin in case file =  100071.0 Pa\n",
      "Writing inputs for 3dns_gpu\n",
      "Total ij points\n",
      "259504\n",
      "Total GPUs\n",
      "1\n"
     ]
    },
    {
     "data": {
      "text/plain": [
       "<module 'matplotlib.pyplot' from '/home/aw329/.local/lib/python3.6/site-packages/matplotlib/pyplot.py'>"
      ]
     },
     "execution_count": 67,
     "metadata": {},
     "output_type": "execute_result"
    }
   ],
   "source": [
    "import numpy as np\n",
    "import matplotlib.pyplot as plt\n",
    "\n",
    "from postpro.read_flo import *\n",
    "from postpro.plot_flo import *\n",
    "\n",
    "# read initial flow and compute derived quantities\n",
    "prop,geom = read_flo(casename)\n",
    "\n",
    "# adjust exit pressure according to initial guess pexit \n",
    "pexit = np.mean(prop[8]['p'][:,:,-1])\n",
    "\n",
    "# adjust inlet total pressure with assumed loss coefficient\n",
    "Yp = 0.025\n",
    "Poin = bcs['Poin']\n",
    "Toin = bcs['Toin']\n",
    "vin = bcs['vin']\n",
    "gam = gas['gamma']\n",
    "cp = gas['cp']\n",
    "cv = cp/gam\n",
    "rgas = cp - cv\n",
    "ro = Poin/(rgas*Toin)\n",
    "\n",
    "poin = bcs['Poin'] + Yp*vin*vin*ro*0.5\n",
    "\n",
    "\n",
    "print('initial guess for pexit = ', pexit, 'Pa')\n",
    "print('pexit in case file = ',case['bcs']['pexit'],'Pa')\n",
    "\n",
    "print('initial guess for poin = ', poin, 'Pa')\n",
    "print('Poin in case file = ',case['bcs']['Poin'],'Pa')\n",
    "\n",
    "\n",
    "# update bcs using initial guess rounded to nearest pascal\n",
    "case['bcs']['Poin'] = np.floor(poin)\n",
    "case['bcs']['pexit'] = np.floor(pexit)\n",
    "\n",
    "# set restart flag to restart from initial flow\n",
    "case['solver']['irestart'] = 1 # \n",
    "\n",
    "# write new case files\n",
    "write_case(case)\n",
    "\n",
    "# plot flow\n",
    "plot_flo(prop,geom,'mach',[0.0,0.3])\n",
    "    \n"
   ]
  },
  {
   "cell_type": "markdown",
   "metadata": {},
   "source": [
    "## Running a preliminary 'steady' calculation "
   ]
  },
  {
   "cell_type": "markdown",
   "metadata": {},
   "source": [
    "In this part we'll use a simple RANS model to establish a steady solution for the flow. This will give a starting point for the unsteady simulations and also help us assess the mesh resolution."
   ]
  },
  {
   "cell_type": "code",
   "execution_count": 2,
   "metadata": {},
   "outputs": [],
   "source": [
    "from meshing.write_rans import *\n",
    "\n",
    "casename = 'notebook1'\n",
    "\n",
    "rans = {}\n",
    "\n",
    "rans['if_rans'] = 1\n",
    "rans['speed_up'] = 10.0\n",
    "\n",
    "write_rans(casename,rans)\n",
    "\n"
   ]
  },
  {
   "cell_type": "code",
   "execution_count": null,
   "metadata": {},
   "outputs": [],
   "source": []
  },
  {
   "cell_type": "code",
   "execution_count": null,
   "metadata": {},
   "outputs": [],
   "source": []
  },
  {
   "cell_type": "code",
   "execution_count": null,
   "metadata": {},
   "outputs": [],
   "source": []
  },
  {
   "cell_type": "markdown",
   "metadata": {},
   "source": [
    "### Run the code\n",
    "\n",
    "Navigate to the case directory. In this example it's\n",
    "\n",
    "> cd notebook1\n",
    "\n",
    "You'll need an NVIDIA GPU \n",
    "\n",
    "\n",
    "Choose the right executible, depending on your machine or VM instance you are running on \n",
    "\n",
    "\n",
    "\n",
    "| VM instance            | executible   |\n",
    "|------------------------|--------------|\n",
    "|                        | threedns_    |\n",
    "\n",
    "\n",
    "Either copy the solver executible ('threedns') into your case directory or add it to your bin. Then run the code with:\n",
    "\n",
    "> mpirun -np 1 threedns\n",
    "\n",
    "This runs the code on 1 processor. You can increase the number of GPUs you wish to run on (provided you have access to more cards), but you need to first modify the input file ('input_gpu.txt'). We'll do this later.\n",
    "\n",
    "\n",
    "The baseline case will run for 10,000 iterations, and should take only a few minutes to complete.\n",
    "\n",
    "\n",
    "Check the GPU \n",
    "> nvidia-smi\n",
    "\n"
   ]
  },
  {
   "cell_type": "markdown",
   "metadata": {},
   "source": [
    "### View the flow\n",
    "\n",
    "We can now read in the flow-field and check everything seems OK. You should see the starting vortex just leaving the trailing-edge. The flow needs much longer to establish itself. Getting through the transients can often be one of the more challenging aspects of setting up a DNS or LES case."
   ]
  },
  {
   "cell_type": "code",
   "execution_count": 92,
   "metadata": {
    "scrolled": false
   },
   "outputs": [
    {
     "name": "stdout",
     "output_type": "stream",
     "text": [
      "gpu input file found\n",
      "2\n"
     ]
    },
    {
     "data": {
      "text/plain": [
       "<module 'matplotlib.pyplot' from '/home/aw329/.local/lib/python3.6/site-packages/matplotlib/pyplot.py'>"
      ]
     },
     "execution_count": 92,
     "metadata": {},
     "output_type": "execute_result"
    }
   ],
   "source": [
    "import numpy as np\n",
    "from postpro.read_flo import *\n",
    "from postpro.plot_flo import *\n",
    "\n",
    "casename = 'notebook1'\n",
    "\n",
    "# pop-out figure\n",
    "%matplotlib qt\n",
    "#%matplotlib inline\n",
    "\n",
    "\n",
    "# read flow - prop and geom are dictionaries containing the flow and grid\n",
    "prop,geom=read_flo(casename)\n",
    "\n",
    "# plot_flo(prop,geom,plot_var,caxis)\n",
    "#plot_flo(prop,geom,'mach',[0.0,0.3])\n",
    "#plot_flo(prop,geom,'p',[0.96e5,1.0e5])\n",
    "#plot_flo(prop,geom,'mut_model',[0.0,200.0])\n",
    "#plot_flo(prop,geom,'po',[0.99e5,1.001e5])\n",
    "plot_flo(prop,geom,'vortz',[-2000.0,2000.0])\n",
    "\n"
   ]
  },
  {
   "cell_type": "markdown",
   "metadata": {},
   "source": [
    "Plot the loading"
   ]
  },
  {
   "cell_type": "code",
   "execution_count": 93,
   "metadata": {},
   "outputs": [],
   "source": [
    "import matplotlib.pyplot as plt\n",
    "\n",
    "wall_blocks = [3,4,5,7]\n",
    "\n",
    "plt.figure(1)\n",
    "for i in wall_blocks:\n",
    "    plt.plot(geom[i-1]['x'][:,-1],prop[i-1]['p'][:,-1,0],'k.')\n",
    "\n",
    "plt.show()\n"
   ]
  },
  {
   "cell_type": "markdown",
   "metadata": {},
   "source": [
    "## Plot the monitor file"
   ]
  },
  {
   "cell_type": "code",
   "execution_count": 114,
   "metadata": {},
   "outputs": [
    {
     "name": "stdout",
     "output_type": "stream",
     "text": [
      "gpu input file found\n",
      "2\n"
     ]
    }
   ],
   "source": [
    "from postpro.plot_monitor import *\n",
    "\n",
    "plot_monitor(casename);"
   ]
  },
  {
   "cell_type": "code",
   "execution_count": null,
   "metadata": {},
   "outputs": [],
   "source": []
  },
  {
   "cell_type": "code",
   "execution_count": 82,
   "metadata": {},
   "outputs": [
    {
     "name": "stdout",
     "output_type": "stream",
     "text": [
      "gpu input file found\n",
      "2\n",
      "gpu input file found\n",
      "2\n"
     ]
    }
   ],
   "source": [
    "from postpro.boundarylayer import *\n",
    "\n",
    "\n",
    "bl =boundarylayer(casename);"
   ]
  },
  {
   "cell_type": "code",
   "execution_count": 83,
   "metadata": {},
   "outputs": [],
   "source": [
    "plt.figure(1)\n",
    "plt.plot(bl['ss']['x'],bl['ss']['xplus'],'-k.')\n",
    "plt.plot(bl['ss']['x'],bl['ss']['yplus'],'-b.')\n",
    "plt.title('suction surface')\n",
    "plt.show()\n",
    "\n",
    "\n",
    "plt.figure(2)\n",
    "plt.plot(bl['ps']['x'],bl['ps']['xplus'],'-k.')\n",
    "plt.plot(bl['ps']['x'],bl['ps']['yplus'],'-b.')\n",
    "plt.title('pressure surface')\n",
    "plt.show()"
   ]
  },
  {
   "cell_type": "markdown",
   "metadata": {},
   "source": [
    "This shows us that the wall normal resolution is probably ok (for now) but we need to increase the streamwise resolution quite significantly to ensure properly resolved results. For now, however, it's useful to work with an under resolved mesh and then refine once we are happy with the set-up. Later we will interpolate the flow onto a more refined mesh; running on a coarse mesh helps to establish a baseline flow.\n",
    "***\n"
   ]
  },
  {
   "cell_type": "code",
   "execution_count": null,
   "metadata": {},
   "outputs": [],
   "source": []
  },
  {
   "cell_type": "code",
   "execution_count": null,
   "metadata": {},
   "outputs": [],
   "source": []
  },
  {
   "cell_type": "markdown",
   "metadata": {},
   "source": [
    "## Run an unsteady calculation\n",
    "Now we can restart the solution and run for 100,000 iterations. First we need to modify the solver input file.\n"
   ]
  },
  {
   "cell_type": "markdown",
   "metadata": {},
   "source": [
    "### Re-start from the preliminary steady RANS case"
   ]
  },
  {
   "cell_type": "code",
   "execution_count": 76,
   "metadata": {
    "scrolled": true
   },
   "outputs": [
    {
     "name": "stdout",
     "output_type": "stream",
     "text": [
      "gpu input file found\n",
      "2\n",
      "Writing inputs for 3dns_gpu\n",
      "Total ij points\n",
      "259504\n",
      "Total GPUs\n",
      "1\n"
     ]
    }
   ],
   "source": [
    "from meshing.read_case import *\n",
    "from meshing.write_case import *\n",
    "from meshing.write_rans import *\n",
    "\n",
    "casename = 'notebook1'\n",
    "\n",
    "# read case\n",
    "case = read_case(casename)\n",
    "\n",
    "# adjust iterations \n",
    "case['solver']['niter'] = 100000 # total number of iterations\n",
    "case['solver']['irestart'] = 1 # restart the calculation with irestart=1\n",
    "\n",
    "# write new case files\n",
    "write_case(case)\n",
    "\n",
    "\n",
    "# switch rans mode off\n",
    "rans = {}\n",
    "rans['if_rans'] = 0\n",
    "rans['speed_up'] = 1.0\n",
    "\n",
    "write_rans(casename,rans)\n",
    "\n"
   ]
  },
  {
   "cell_type": "markdown",
   "metadata": {},
   "source": [
    "Now restart the simulation. You may wish to store the initial RANS solution in a separate folder for use later."
   ]
  },
  {
   "cell_type": "code",
   "execution_count": 113,
   "metadata": {},
   "outputs": [
    {
     "name": "stdout",
     "output_type": "stream",
     "text": [
      "gpu input file found\n",
      "2\n"
     ]
    }
   ],
   "source": [
    "import numpy as np\n",
    "from postpro.read_flo import *\n",
    "from postpro.plot_flo import *\n",
    "\n",
    "casename = 'notebook1'\n",
    "\n",
    "# pop-out figure\n",
    "%matplotlib qt\n",
    "#%matplotlib inline\n",
    "\n",
    "\n",
    "# read flow - prop and geom are dictionaries containing the flow and grid\n",
    "prop,geom=read_flo(casename)\n",
    "\n",
    "# plot_flo(prop,geom,plot_var,caxis)\n",
    "#plot_flo(prop,geom,'mach',[0.0,0.3])\n",
    "plot_flo(prop,geom,'vortz',[-2000.0,2000.0])\n",
    "\n",
    "\n",
    "wall_blocks = [3,4,5,7]\n",
    "\n",
    "plt.figure(2)\n",
    "for i in wall_blocks:\n",
    "    plt.plot(geom[i-1]['x'][:,-1],prop[i-1]['p'][:,-1,0],'k.')\n",
    "\n",
    "plt.show()"
   ]
  },
  {
   "cell_type": "markdown",
   "metadata": {},
   "source": []
  },
  {
   "cell_type": "markdown",
   "metadata": {},
   "source": [
    "Some unsteadiness is expected because of the strong vortex shedding from the trailing-edge and the formation of separation bubbles on the suction and pressure surfaces.\n",
    "\n",
    "In a two-dimensional flow there is no breakdown to turbulence and therefore ,,,\n"
   ]
  },
  {
   "cell_type": "markdown",
   "metadata": {},
   "source": [
    "### Create a movie of the flow"
   ]
  },
  {
   "cell_type": "code",
   "execution_count": 53,
   "metadata": {},
   "outputs": [
    {
     "name": "stdout",
     "output_type": "stream",
     "text": [
      "Writing inputs for 3dns_gpu\n",
      "Total ij points\n",
      "259504\n",
      "Total GPUs\n",
      "1\n"
     ]
    }
   ],
   "source": [
    "case['solver']['ncut'] = 1000 # write cut file frequency    \n",
    "case['solver']['niter'] = 100000 # write cut file frequency    \n",
    "\n",
    "# write new case files\n",
    "write_case(case)\n"
   ]
  },
  {
   "cell_type": "markdown",
   "metadata": {},
   "source": [
    "\n",
    "Restart the simulation. Once the simulation is complete, run the cell below to produce the snapshots of the flow from the 'kcut' files.\n"
   ]
  },
  {
   "cell_type": "code",
   "execution_count": 65,
   "metadata": {},
   "outputs": [
    {
     "name": "stdout",
     "output_type": "stream",
     "text": [
      "gpu input file found\n",
      "2\n"
     ]
    }
   ],
   "source": [
    "from postpro.read_kcuts import *\n",
    "\n",
    "# create image files from the kcut files\n",
    "read_kcuts(casename,[1000],'p',[0.98e5-1000.0,0.98e5+1000.0]);\n",
    "\n"
   ]
  },
  {
   "cell_type": "markdown",
   "metadata": {},
   "source": [
    "Install ffmpeg\n",
    "\n",
    "https://ffmpeg.org/download.html\n",
    "\n",
    "Use the following command in the notebook1 directory\n",
    "\n",
    "> ffmpeg -framerate 10 -pattern_type glob -i '*.png'   -c:v libx264 -pix_fmt yuv420p out.mp4\n",
    "\n",
    "This creates a video from the image files, called out.mpeg. Read the ffmpeg documentation if you wish to adjust the video quality and frame rate.\n",
    "\n",
    "\n",
    "\n"
   ]
  },
  {
   "cell_type": "code",
   "execution_count": null,
   "metadata": {},
   "outputs": [],
   "source": []
  },
  {
   "cell_type": "code",
   "execution_count": null,
   "metadata": {},
   "outputs": [],
   "source": []
  },
  {
   "cell_type": "code",
   "execution_count": 112,
   "metadata": {},
   "outputs": [
    {
     "name": "stdout",
     "output_type": "stream",
     "text": [
      "gpu input file found\n",
      "2\n"
     ]
    }
   ],
   "source": [
    "from postpro.plot_monitor import *\n",
    "\n",
    "plot_monitor(casename);"
   ]
  },
  {
   "cell_type": "markdown",
   "metadata": {},
   "source": [
    "Now the input file has been modified, run the solver again. This time it may take a few hours to complete. \n",
    "\n",
    "\n",
    "* Every time the solver writes out the flow files you can take another look at the flow- do this by re-running the cell above in 1.6.\n",
    "\n",
    "* Watch-out for when the starting vortex hits the exit boundary- this is a common cause for simulation failure, because the characteristic interfaces can fail when hit by such a strong pressure field.\n",
    "\n",
    "* As the flow develops, notice how coherent 2D roll-ups form on the suction surface and in the trailing-edge vortex shedding. Because the flow is purely 2D, there can be no 3D turbulent breakdown. This means that unsteady structures are very intense and tend not to dissipate. You'll also notice how the vortices interact with each other, causing a very non-uniform flow at the exit. These flow features are largely a consequence of running in 2D- when we run in 3D with inflow turbulence these structures will be far less intense.\n",
    "\n",
    "In the next notebooks you'll\n",
    "* set-up the case on your HPC system\n",
    "* start running in 3D\n",
    "* add inflow turbulence\n",
    "* start gathering statistics.\n",
    "\n",
    "For the next few notebooks you need access to an HPC system and for running larger cases, so get yourself set-up:\n",
    "\n",
    "A few options are available. You may wish to purchase a GPU accelerated machine \n",
    "\n",
    "https://www.hpc.cam.ac.uk/applications-access-research-computing-services"
   ]
  },
  {
   "cell_type": "markdown",
   "metadata": {},
   "source": [
    "Notice oblique waves - these are remnants of pressure waves generated when the flow is initiated - the inlet and outlet boundaries are non-reflective to plane waves parallel to the boundaries, however oblique waves pass unaffected by the periodic interfaces, eventually dieing out  \n",
    "\n",
    "Pressure waves are also generated from vortex formation on the blade surface and the trailing-edge you can see these in the pressure contours. \n"
   ]
  }
 ],
 "metadata": {
  "kernelspec": {
   "display_name": "Python 3",
   "language": "python",
   "name": "python3"
  },
  "language_info": {
   "codemirror_mode": {
    "name": "ipython",
    "version": 3
   },
   "file_extension": ".py",
   "mimetype": "text/x-python",
   "name": "python",
   "nbconvert_exporter": "python",
   "pygments_lexer": "ipython3",
   "version": "3.6.9"
  }
 },
 "nbformat": 4,
 "nbformat_minor": 2
}
