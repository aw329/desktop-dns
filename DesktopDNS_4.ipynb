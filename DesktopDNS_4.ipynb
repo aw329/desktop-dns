{
 "cells": [
  {
   "cell_type": "markdown",
   "id": "38a78b85",
   "metadata": {},
   "source": [
    "# Desktop DNS Notebook 4\n",
    "\n",
    "## RANS modelling\n",
    "\n"
   ]
  },
  {
   "cell_type": "code",
   "execution_count": 1,
   "id": "0ecc7ead",
   "metadata": {},
   "outputs": [],
   "source": [
    "# reload modules\n",
    "%reload_ext autoreload\n",
    "%autoreload 2\n"
   ]
  },
  {
   "cell_type": "code",
   "execution_count": 15,
   "id": "4bf97d06",
   "metadata": {},
   "outputs": [
    {
     "name": "stdout",
     "output_type": "stream",
     "text": [
      "gpu input file found\n",
      "2\n",
      "Writing inputs for 3dns_gpu\n",
      "Total ij points\n",
      "28224\n",
      "Total GPUs\n",
      "1\n",
      "Time:  106.72818918299163\n"
     ]
    }
   ],
   "source": [
    "### Create RANS mesh\n",
    "\n",
    "import matplotlib.pyplot as plt\n",
    "import timeit\n",
    "\n",
    "from meshing.read_profile   import *\n",
    "from meshing.blade_mesher import *\n",
    "from meshing.read_case import *\n",
    "\n",
    "# pop-out figure\n",
    "%matplotlib qt\n",
    "\n",
    "# mesh refinement inputs\n",
    "refine_fac = 0.5 # downsample for RANS \n",
    "ywall = 0.01/150 # the final near wall cell height\n",
    "msmooths = 100 # number of iterations for the poisson solver\n",
    "\n",
    "# set case names\n",
    "old_casename = 'notebook3'\n",
    "new_casename = 'notebook4'\n",
    "\n",
    "# read old casefiles\n",
    "case = read_case(old_casename)\n",
    "\n",
    "# case name and profile coordinates\n",
    "casename = new_casename\n",
    "case['casename'] = casename\n",
    "mesh   = {}\n",
    "mesh['case'] = casename\n",
    "mesh['profile'] = 'geom/profile.txt'\n",
    "\n",
    "# initial mesh inputs\n",
    "mesh['npp'] = 2*[None]\n",
    "mesh['ywall'] = 2*[None]\n",
    "mesh['msmooths'] = 2*[None]\n",
    "\n",
    "mesh['npp'][0] = 4\n",
    "mesh['Lup'] = 1.0\n",
    "mesh['Ldn'] = 1.0\n",
    "mesh['Lo'] = 0.2\n",
    "mesh['ywall'][0] = 0.001\n",
    "mesh['msmooths'][0] = 500\n",
    "mesh['cor_fac'] = 0.75 # factor shrinking multi-block corner cells - lower values give more shrinkage.\n",
    "\n",
    "# final mesh inputs\n",
    "mesh['npp'][1] = 28 # sets minimum points in any direction in smallest block\n",
    "mesh['refine_fac'] = refine_fac \n",
    "mesh['ywall'][1] =  ywall\n",
    "mesh['msmooths'][1] = msmooths\n",
    "\n",
    "# scale factor if used (set to 1.0 if not)\n",
    "mesh['scale_factor'] = 1.0\n",
    "\n",
    "# flip y coordinates\n",
    "mesh['flip'] = 1\n",
    "\n",
    "# modify solver inputs \n",
    "solver = case['solver']\n",
    "solver['niter'] = 500000 # run for a few iterations to check all ok\n",
    "solver['irestart'] = 1 #  restart from initial guess\n",
    "solver['istats'] = 0 # switch-off statistics\n",
    "solver['span'] = 0.1 # spanwise extent not used for 2D\n",
    "solver['nk'] = 1 # set to 1 for 2D \n",
    "bcs = case['bcs']\n",
    "gas = case['gas']\n",
    "\n",
    "# switch-off inlet perturbations\n",
    "bcs['aturb'] = 0.0 # amplification factor for turbulence\n",
    "\n",
    "# create mesh and case files\n",
    "start = timeit.default_timer()\n",
    "blk = blade_mesher(mesh,bcs,gas,solver)\n",
    "stop = timeit.default_timer()\n",
    "\n",
    "print('Time: ', stop - start)  \n",
    "\n"
   ]
  },
  {
   "cell_type": "code",
   "execution_count": null,
   "id": "21c477b9",
   "metadata": {},
   "outputs": [],
   "source": [
    "## Run initial guess"
   ]
  },
  {
   "cell_type": "code",
   "execution_count": 282,
   "id": "56da18ff",
   "metadata": {},
   "outputs": [
    {
     "name": "stdout",
     "output_type": "stream",
     "text": [
      "gpu input file found\n",
      "2\n",
      "gpu input file found\n",
      "2\n"
     ]
    }
   ],
   "source": [
    "#%reload_ext autoreload\n",
    "#%autoreload 2\n",
    "from meshing.initial_guess import *\n",
    "from meshing.write_flo import *\n",
    "from meshing.read_case import *\n",
    "\n",
    "casename = 'notebook4'\n",
    "\n",
    "# read casefiles\n",
    "case = read_case(casename)\n",
    "\n",
    "# create initial guess (last two integers define the streamline curvature grid dims)\n",
    "prop = initial_guess(mesh,blk,bcs,gas,30,20)\n",
    "\n",
    "# write initial flow files\n",
    "write_flo(prop,casename)"
   ]
  },
  {
   "cell_type": "code",
   "execution_count": null,
   "id": "ce669e4c",
   "metadata": {},
   "outputs": [],
   "source": []
  },
  {
   "cell_type": "code",
   "execution_count": null,
   "id": "4557619a",
   "metadata": {},
   "outputs": [],
   "source": []
  },
  {
   "cell_type": "code",
   "execution_count": null,
   "id": "0bf03cd6",
   "metadata": {},
   "outputs": [],
   "source": []
  },
  {
   "cell_type": "code",
   "execution_count": 6,
   "id": "6c881728",
   "metadata": {
    "scrolled": true
   },
   "outputs": [
    {
     "name": "stdout",
     "output_type": "stream",
     "text": [
      "[0.0130743  0.0130743  0.0130743  0.00653715] 0.04576005 [1 2 3 4]\n",
      "gpu input file found\n",
      "2\n"
     ]
    }
   ],
   "source": [
    "### Determine eddy viscosity\n",
    "\n",
    "from postpro.read_2d_mean import *\n",
    "from postpro.plot_flo import *\n",
    "from meshing.write_flo import *\n",
    "\n",
    "prop_dns,geom_dns=read_2d_mean('../as2375_2_highre/budgets/nk120/',[1000])\n",
    "#\n",
    "## write instantaneous flow as re-start\n",
    "#interp_flo('notebook2','notebook4'):\n"
   ]
  },
  {
   "cell_type": "code",
   "execution_count": 174,
   "id": "1190ff98",
   "metadata": {},
   "outputs": [
    {
     "data": {
      "text/plain": [
       "<module 'matplotlib.pyplot' from '/home/aw329/.local/lib/python3.6/site-packages/matplotlib/pyplot.py'>"
      ]
     },
     "execution_count": 174,
     "metadata": {},
     "output_type": "execute_result"
    }
   ],
   "source": [
    "plot_flo(prop_dns,geom_dns,'mut_opt',[0,100])\n"
   ]
  },
  {
   "cell_type": "code",
   "execution_count": 142,
   "id": "af5a46a7",
   "metadata": {},
   "outputs": [
    {
     "name": "stdout",
     "output_type": "stream",
     "text": [
      "gpu input file found\n",
      "2\n"
     ]
    }
   ],
   "source": [
    "\n",
    "### Create prescribed eddy viscosity\n",
    "\n",
    "from postpro.write_mut import *\n",
    "from postpro.read_flo import *\n",
    "\n",
    "write_mut(prop_dns,geom_dns,'notebook4')\n"
   ]
  },
  {
   "cell_type": "code",
   "execution_count": null,
   "id": "f16b5238",
   "metadata": {},
   "outputs": [],
   "source": []
  },
  {
   "cell_type": "code",
   "execution_count": null,
   "id": "2494f164",
   "metadata": {},
   "outputs": [],
   "source": []
  },
  {
   "cell_type": "code",
   "execution_count": 53,
   "id": "38d00852",
   "metadata": {},
   "outputs": [],
   "source": [
    "### Run a prescribed eddy viscosity RANS simulation"
   ]
  },
  {
   "cell_type": "code",
   "execution_count": null,
   "id": "cdca6c42",
   "metadata": {},
   "outputs": [],
   "source": []
  },
  {
   "cell_type": "code",
   "execution_count": null,
   "id": "617b04d8",
   "metadata": {},
   "outputs": [],
   "source": []
  },
  {
   "cell_type": "code",
   "execution_count": 3,
   "id": "d3497011",
   "metadata": {},
   "outputs": [
    {
     "name": "stdout",
     "output_type": "stream",
     "text": [
      "gpu input file found\n",
      "2\n"
     ]
    },
    {
     "data": {
      "text/plain": [
       "<module 'matplotlib.pyplot' from '/home/aw329/.local/lib/python3.6/site-packages/matplotlib/pyplot.py'>"
      ]
     },
     "execution_count": 3,
     "metadata": {},
     "output_type": "execute_result"
    }
   ],
   "source": [
    "from postpro.read_flo import *\n",
    "from postpro.plot_flo import *\n",
    "\n",
    "\n",
    "# pop-out figure\n",
    "%matplotlib qt\n",
    "\n",
    "# read flo\n",
    "casename = 'notebook4'\n",
    "\n",
    "prop,geom=read_flo(casename)\n",
    "\n",
    "# plot flo\n",
    "plot_flo(prop,geom,'mut_model',[0,100])"
   ]
  },
  {
   "cell_type": "code",
   "execution_count": 4,
   "id": "d2e1ea36",
   "metadata": {},
   "outputs": [
    {
     "data": {
      "text/plain": [
       "<module 'matplotlib.pyplot' from '/home/aw329/.local/lib/python3.6/site-packages/matplotlib/pyplot.py'>"
      ]
     },
     "execution_count": 4,
     "metadata": {},
     "output_type": "execute_result"
    }
   ],
   "source": [
    "\n",
    "# plot flo\n",
    "plot_flo(prop,geom,'mach',[0,0.3])\n",
    "#plot_flo(prop,geom,'p',[0.96e5,1.0e5])"
   ]
  },
  {
   "cell_type": "code",
   "execution_count": 7,
   "id": "72c92df6",
   "metadata": {},
   "outputs": [],
   "source": [
    "import matplotlib.pyplot as plt\n",
    "\n",
    "wall_blocks = [3,4,5,7]\n",
    "\n",
    "plt.figure(1)\n",
    "for i in wall_blocks:\n",
    "    plt.plot(geom[i-1]['x'][:,-1],prop[i-1]['p'][:,-1,0],'r.')\n",
    "    plt.plot(geom_dns[i-1]['x'][:,-1],prop_dns[i-1]['p'][:,-1],'k.')\n",
    "plt.legend(['rans','dns'])\n",
    "plt.show()"
   ]
  },
  {
   "cell_type": "code",
   "execution_count": 305,
   "id": "4e5ddf7b",
   "metadata": {},
   "outputs": [
    {
     "name": "stdout",
     "output_type": "stream",
     "text": [
      "gpu input file found\n",
      "2\n"
     ]
    }
   ],
   "source": [
    "from postpro.plot_monitor import *\n",
    "\n",
    "plot_monitor(casename);"
   ]
  },
  {
   "cell_type": "code",
   "execution_count": null,
   "id": "76a2afea",
   "metadata": {},
   "outputs": [],
   "source": []
  }
 ],
 "metadata": {
  "kernelspec": {
   "display_name": "Python 3",
   "language": "python",
   "name": "python3"
  },
  "language_info": {
   "codemirror_mode": {
    "name": "ipython",
    "version": 3
   },
   "file_extension": ".py",
   "mimetype": "text/x-python",
   "name": "python",
   "nbconvert_exporter": "python",
   "pygments_lexer": "ipython3",
   "version": "3.6.9"
  }
 },
 "nbformat": 4,
 "nbformat_minor": 5
}
