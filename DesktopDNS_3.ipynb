{
 "cells": [
  {
   "cell_type": "markdown",
   "metadata": {},
   "source": [
    "Copyright (c) 2023, University of Cambridge, all rights reserved. Written by Andrew Wheeler, University of Cambridge\n",
    "\n",
    "\n",
    "\n",
    "# Desktop DNS Notebook 3: Mesh sensitivity and quality checks\n",
    "\n",
    "---\n",
    "### User agreement and correct use of these tools\n",
    "This notebook and associated Python code are provided for non-commericial/academic use only. For those interested in commercial application of these tools please contact Andrew Wheeler (e-mail: aw329@cam.ac.uk). Please read the license agreement (LICENSE.txt).\n",
    "\n",
    "\n",
    "If you use these tools for a publication please include the citation:\n",
    "\n",
    "*Wheeler A.P.S. (2023) 'Desktop-DNS: An open toolkit for turbomachinery aerodynamics', ASME Turbo Expo 2023, ASME Paper no. GT2023-1023647*"
   ]
  },
  {
   "cell_type": "markdown",
   "metadata": {},
   "source": [
    "\n",
    "---\n",
    "\n",
    "## 3.0 Introduction\n",
    "\n",
    "In this notebook you will investigate the effect of mesh resolution on the flow. This will involve successive mesh refinement using the meshing tool. In order to avoid excessive transients, the flow is interpolated from previous simulations onto the finer meshes.  You will then use analysis of the entropy transport equation to assess the resolved dissipation. The flow statistics can also be used to estimate the Kolmogorov length-scale, which can be used to assess the mesh resolution. The notebook sections are:\n",
    "\n",
    "* Flow interpolation onto finer meshes\n",
    "* Comparison of cases with different mesh sizes\n",
    "* Entropy budget analysis\n",
    "* Checking the cell size against the Kolmogorov length scale\n",
    "\n",
    "\n",
    "The *3DNS-gpu* user guide can be found in the repository docs here: <a href=\"docs/userguide_3dns_gpu_May_2023.pdf\"> <i>3DNS-gpu</i> userguide</a> and gives more detail on the code including the format for the input and output files and running of the code.\n",
    "\n",
    "A description of the Python routines used in these notebooks is given in the 'tools.ipynb' notebook. This lists the inputs and outputs for each of the main functions used.\n",
    "\n",
    "---"
   ]
  },
  {
   "cell_type": "code",
   "execution_count": 351,
   "metadata": {},
   "outputs": [],
   "source": [
    "# this cell ensures that python modules are reloaded at runtime\n",
    "\n",
    "%reload_ext autoreload\n",
    "%autoreload 2\n"
   ]
  },
  {
   "cell_type": "markdown",
   "metadata": {},
   "source": [
    "## 3.1 Interpolating onto a finer mesh\n",
    "\n",
    "### Creating a finer mesh\n",
    "In Notebook 2 you established a coarse 3D case. We now want to interpolate this flow onto a finer mesh. We can create a finer mesh using the meshing tool described in Notebook 1.\n",
    "\n",
    "The refinement factor below can be used to increase the mesh resolution. The refinement factor 'refine_fac' scales the grid points in each i,j direction. \n",
    "\n",
    "\n",
    "In Notebook 1 we set 'refine_fac=2'. In the cell below the 'refine_fac' is set to 3, and therefore the i-j points will be increased by a factor of $(3/2)^2 = 2.25$ compared to the baseline mesh.\n"
   ]
  },
  {
   "cell_type": "code",
   "execution_count": 17,
   "metadata": {},
   "outputs": [],
   "source": [
    "\n",
    "\n",
    "# create refined mesh\n",
    "\n",
    "# inilitialize dictionaries\n",
    "mesh   = {}\n",
    "\n",
    "# case name and profile coordinates\n",
    "mesh['case'] = 'notebook3/mesh1'\n",
    "mesh['profile'] = 'geom/profile.txt'\n",
    "\n",
    "# initial mesh inputs\n",
    "mesh['npp'] = 2*[None]\n",
    "mesh['ywall'] = 2*[None]\n",
    "mesh['msmooths'] = 2*[None]\n",
    "\n",
    "mesh['npp'][0] = 4\n",
    "mesh['Lup'] = 1.0\n",
    "mesh['Ldn'] = 1.0\n",
    "mesh['Lo'] = 0.2\n",
    "mesh['ywall'][0] = 0.04/150\n",
    "mesh['msmooths'][0] = 500\n",
    "mesh['cor_fac'] = 0.75 # factor shrinking multi-block corner cells - lower values give more shrinkage.\n",
    "\n",
    "# final mesh inputs\n",
    "mesh['npp'][1] = 28\n",
    "mesh['refine_fac'] = 3 # use refinement factor to increase mesh points in i-j directions \n",
    "mesh['ywall'][1] =  0.02/150 \n",
    "mesh['msmooths'][1] = 200\n",
    "\n",
    "# scale factor if used (set to 1.0 if not)\n",
    "mesh['scale_factor'] = 1.0\n",
    "\n",
    "# flip y coordinates if -1 (1 for no flip)\n",
    "mesh['flip'] = 1\n",
    "\n",
    "\n"
   ]
  },
  {
   "cell_type": "markdown",
   "metadata": {},
   "source": [
    "The meshing tool inputs are now set. Running the next cell creates the mesh - the bigger the mesh, the longer it takes for the mesher to run. Wait till the cell is complete before continuing."
   ]
  },
  {
   "cell_type": "code",
   "execution_count": 18,
   "metadata": {},
   "outputs": [
    {
     "name": "stdout",
     "output_type": "stream",
     "text": [
      "Time:  167.75252096704207\n"
     ]
    }
   ],
   "source": [
    "from meshing.blade_mesher import *\n",
    "import timeit\n",
    "\n",
    "start = timeit.default_timer()\n",
    "\n",
    "# create mesh \n",
    "case = blade_mesher(mesh)\n",
    "\n",
    "stop = timeit.default_timer()\n",
    "\n",
    "print('Time: ', stop - start)  \n",
    "\n",
    "\n"
   ]
  },
  {
   "cell_type": "markdown",
   "metadata": {},
   "source": [
    "Plot the mesh and check you are happy with the mesh quality."
   ]
  },
  {
   "cell_type": "code",
   "execution_count": 357,
   "metadata": {},
   "outputs": [],
   "source": [
    "import matplotlib.pyplot as plt\n",
    "\n",
    "# pop-out figures\n",
    "%matplotlib qt\n",
    "\n",
    "#%matplotlib inline\n",
    "\n",
    "\n",
    "# unpack case for plotting\n",
    "blk = case['blk']\n",
    "\n",
    "# plot profile, topology and mesh\n",
    "plt.figure(1)\n",
    "plt.axis('equal')\n",
    "\n",
    "for ib in range(len(blk)):\n",
    "    xnew=blk[ib]['x']\n",
    "    ynew=blk[ib]['y']\n",
    "    plt.plot(xnew,ynew,'k')\n",
    "    plt.plot(np.transpose(xnew),np.transpose(ynew),'k')\n",
    "\n",
    "plt.show()\n"
   ]
  },
  {
   "cell_type": "markdown",
   "metadata": {},
   "source": [
    "### Interpolation\n",
    "\n",
    "Now we can interpolate the solution from the coarse mesh onto the new fine mesh. Make sure the casenames are set correctly so that the old and new case files are read and written to the correct directories.\n",
    "\n",
    "At this point we can now adjust the number of spanwise points as well. In the cell below nk is set to 51. "
   ]
  },
  {
   "cell_type": "code",
   "execution_count": 20,
   "metadata": {
    "scrolled": true
   },
   "outputs": [
    {
     "name": "stdout",
     "output_type": "stream",
     "text": [
      "gpu input file found\n",
      "2\n",
      "Writing inputs for 3dns_gpu\n",
      "Total ij points\n",
      "558208\n",
      "Total GPUs\n",
      "1\n",
      "gpu input file found\n",
      "2\n",
      "Not interpolating mut_model\n",
      "Not interpolating area\n",
      "Not interpolating mut_model\n",
      "Not interpolating area\n",
      "Not interpolating mut_model\n",
      "Not interpolating area\n",
      "Not interpolating mut_model\n",
      "Not interpolating area\n",
      "Not interpolating mut_model\n",
      "Not interpolating area\n",
      "Not interpolating mut_model\n",
      "Not interpolating area\n",
      "Not interpolating mut_model\n",
      "Not interpolating area\n",
      "Not interpolating mut_model\n",
      "Not interpolating area\n",
      "Not interpolating mut_model\n",
      "Not interpolating area\n",
      "gpu input file found\n",
      "2\n"
     ]
    }
   ],
   "source": [
    "from postpro.interp_flo import *\n",
    "from meshing.read_case import *\n",
    "from meshing.write_flo import *\n",
    "from meshing.write_case import *\n",
    "\n",
    "\n",
    "# interpolate old flow files onto new grid\n",
    "casename_old = 'notebook2'\n",
    "casename_new = 'notebook3/mesh1'\n",
    "\n",
    "\n",
    "# read casefiles from old directory\n",
    "case_old = read_case(casename_old)\n",
    "\n",
    "# pack-up new case\n",
    "case['casename'] = casename_new\n",
    "case['bcs'] = case_old['bcs']\n",
    "case['gas'] = case_old['gas']\n",
    "case['solver'] = case_old['solver']\n",
    "\n",
    "# set number of spanwise points\n",
    "case['solver']['nk'] = 51 # spanwise points for 3D calculation \n",
    "\n",
    "# adjust number of iterations\n",
    "case['solver']['niter'] = 50000\n",
    "\n",
    "# set adjust spanwise extent if needed\n",
    "case['solver']['span'] = 0.1 #  \n",
    "case['solver']['sigma'] = 0.01 # set filter coefficient (finer meshes permit lower values)\n",
    " \n",
    "# write new casefiles\n",
    "write_case(case)\n",
    "\n",
    "# interpolate onto new mesh\n",
    "prop = interp_flo(casename_old,casename_new)\n",
    "\n",
    "# write the new flo files\n",
    "write_flo(prop,casename_new)\n",
    "\n",
    "\n",
    "\n"
   ]
  },
  {
   "cell_type": "markdown",
   "metadata": {},
   "source": [
    "\n",
    "Before running it is sensible to check the flow files - use the read_flo and plot_flo routines to read-in and plot the interpolated flow to make sure the interpolation has been successful.\n",
    "\n",
    "Once you are happy with the new flow set up you are ready to run the simulation in the usual way. The case files above are copied-over from Notebook 2 and so the input file is set-up to run the case on 4 GPUs (as described in Notebook 2).\n"
   ]
  },
  {
   "cell_type": "markdown",
   "metadata": {},
   "source": [
    "\n",
    "The table below is an estimate of the running costs for a 28 million point mesh on AWS.\n",
    "\n",
    "\n",
    "| VM instance | GPU  | approx. \\$/hr*| time per step(s)|\\$ for 600k steps* | \n",
    "|-------------|------|---------------|--------|----|\n",
    "| p3.8xlarge  |4 x V100 | 3.6 (12)   | 0.117  | 70.2 (234) | \n",
    "\n",
    "*Estimated spot price (values in brackets are the estimated on-demand price) for a 28M point grid\n",
    "\n"
   ]
  },
  {
   "cell_type": "markdown",
   "metadata": {},
   "source": [
    "\n",
    "---\n",
    "\n",
    "## 3.2 Compare cases\n",
    "Now try creating and running another mesh. Repeat section 3.1 with a different refinement factor. \n",
    "You can also adjust the near wall cell size; 'ywall' sets the wall normal cell height for the cell adjacent to the viscous walls. It is also possible to increase the cfl number - values of upto 1.5 are possible and will reduce compute costs. The filter coefficient (sigma) can be adjusted to increase or reduce the level of explicit filtering.\n",
    "\n",
    "Make sure to set a new casename (e.g. 'notebook3/mesh2') - otherwise you risk overwriting your current case! \n",
    "Also make sure to set the old casename to read in the previous best simulation (e.g. 'notebook3/mesh1'). Always keep the files up-to-date in your notebook directory - copying the casefiles from where you are running on your AWS instance. The interpolation routines relies on having up-to-date flow files in the notebook directory.\n",
    "\n",
    "When running each new case, assess the statistical convergence (as described in Notebook 2) and carefully select the integration time in order to avoid an initial transients and to make sure the integration time is sufficiently long to ensure statistical convergence.\n",
    "\n",
    "Below is a table showing 3 cases run with different choices of mesh resolution. Also shown are the wake profiles these 3 cases, showing that above a around 70 million points, there is very little change in the wake profile. \n",
    "\n",
    "The Appendix at the end of this notebook shows an example of how to compare different cases.\n"
   ]
  },
  {
   "cell_type": "markdown",
   "metadata": {},
   "source": [
    "\n",
    "| Mesh points | refine_fac | ywall (m) | cfl | sigma | nk | integration time (s) |\n",
    "|-|-|-|-|-|-|-|   \n",
    "|28468608 |3| 1.3e-4 | 1.0 | 0.01 | 51 | 0.1728 |\n",
    "|68856368 |4| 1.3e-4 | 1.0 | 0.01 | 71 | 0.1859 |\n",
    "|151350416|6| 2e-4   | 1.5 | 0.01 | 71 | 0.1152 |\n"
   ]
  },
  {
   "cell_type": "markdown",
   "metadata": {},
   "source": [
    "Wake profile of total pressure loss coefficient ($Y_p$) at $x/c_{ax}=1.25$\n",
    "\n",
    "![WAKES](images/wakes.png)\n"
   ]
  },
  {
   "cell_type": "markdown",
   "metadata": {},
   "source": [
    "We now have a good idea of how many mesh points we require to achieve mesh independence of loss. You may wish to use the post-processing routines to assess mesh sensitivity to other performance criteria - such as loading and deviation (see Notebook 2)."
   ]
  },
  {
   "cell_type": "markdown",
   "metadata": {},
   "source": [
    "\n",
    "---\n",
    "\n",
    "## 3.3 Entropy budget analysis\n",
    "\n",
    "Now we make use of the entropy transport equation to assess how well resolved the cases are. The entropy transport equation is:\n",
    "\n",
    "$\\begin{equation}\n",
    "\\rho\\frac{Ds_{irr}}{Dt} = \\rho\\frac{Ds}{Dt} + \\nabla \\cdot \\left( \\frac{q}{T} \\right) =  \\frac{\\phi}{T} + \\dot{S}_N  +\\theta .\n",
    "\\label{eq:sgen}\n",
    "\\end{equation}$\n",
    "\n",
    "On the left-hand-side is the irreversible entropy generation rate, which is the sum of the entropy generation and contribution due to heat transfer rate. This represents the true entropy change in the flow and directly governs the loss. On the right is the contribution due to resolved dissipation $\\phi/T$ and $\\dot{S}_N$ which is the entropy generation rate per unit volume due to numerical dissipation within the simulation. The contribution due to irreversible heat transfer $\\theta$ across finite temperature differences can be safely ignored in low speed adiabatic cases such as this ($\\theta\\approx0$).\n",
    "\n",
    "Resolving the full dissipation spectrum requires capturing the very smallest-scales in the flow.  Under-resolved calculations underestimate the dissipation $\\phi$ because this is computed using the resolved gradients in the flow. The irreversible entropy generation rate on the other hand contains the effects of both the resolved dissipation and numerical dissipation required to stabilize the numerical scheme; in *3DNS-gpu* this is applied using the $8^{th}$ order explicit filter. \n",
    "\n",
    "When integrated over a volume, the irreversible entropy generation rate will be larger and less resolution dependent than determining dissipation from the resolved flow. The entropy \"budget\" is therefore very useful because it allows us to quantify the unresolved dissipation. Therefore in *3DNS-gpu* the quantities $\\rho u s, \\rho v s, q_x/T, q_y/T, \\phi/T$ are included in the time-average quantities.\n",
    "\n",
    "We can determine the resolved loss generation (due to dissipation) and entropy flux by integration within a control volume $\\Omega$:\n",
    "\n",
    "$\\begin{equation}\n",
    " \\Sigma_{res} = \\int_{\\Omega} \\frac{\\phi}{T} d\\Omega\n",
    "\\end{equation}$\n",
    "\n",
    "$\\begin{equation}\n",
    " \\Sigma_{flux} = \\int_{\\Omega} \\frac{Ds_{irr}}{Dt} d\\Omega\n",
    "\\end{equation}$\n",
    "\n"
   ]
  },
  {
   "cell_type": "markdown",
   "metadata": {},
   "source": [
    "This figure shows the cumulative rise in entropy through the domain, comparing the resolved and actual entropy generation rate for a 151 million point mesh. \n",
    "![SGEN](images/entropybudget.png)\n",
    "\n",
    "The next two cells below can be used to generate the same plot for your cases."
   ]
  },
  {
   "cell_type": "code",
   "execution_count": 2,
   "metadata": {},
   "outputs": [],
   "source": [
    "import matplotlib.pyplot as plt\n",
    "import numpy as np\n",
    "\n",
    "from postpro.read_2d_mean import *\n",
    "from postpro.sumvolx import *\n",
    "\n",
    "# pop-out figures\n",
    "#%matplotlib qt\n",
    "%matplotlib inline\n",
    "\n",
    "# set the casename \n",
    "casename = 'notebook3/mesh3'\n",
    "\n",
    "prop,geom,_=read_2d_mean(casename,[6]);\n",
    "xpos = np.linspace(-0.5,1.5,100);\n",
    "\n",
    "irrev_entropy_flux  = sumvolx(prop,geom,'Dsi',xpos);\n",
    "resolved_diss = sumvolx(prop,geom,'dissT',xpos);\n"
   ]
  },
  {
   "cell_type": "code",
   "execution_count": 3,
   "metadata": {},
   "outputs": [
    {
     "data": {
      "image/png": "[encoded data removed]",
      "text/plain": [
       "<Figure size 432x288 with 1 Axes>"
      ]
     },
     "metadata": {
      "needs_background": "light"
     },
     "output_type": "display_data"
    }
   ],
   "source": [
    "plt.figure(1)\n",
    "plt.plot(xpos,irrev_entropy_flux,'-r.')\n",
    "plt.plot(xpos,resolved_diss,'-k.')\n",
    "plt.xlabel('x')\n",
    "plt.ylabel('Cumulutative volume integral $ \\int_V f dV $')\n",
    "plt.legend(['Total irreversible $Ds_{irrev}/Dt$',\n",
    "            'Resolved $\\phi/T$'])\n",
    "plt.show()"
   ]
  },
  {
   "cell_type": "markdown",
   "metadata": {},
   "source": [
    "The next cell shows a bar chart of the resolved and total irreversible entropy rise at $x/c_{ax}=1.1$."
   ]
  },
  {
   "cell_type": "code",
   "execution_count": 4,
   "metadata": {},
   "outputs": [
    {
     "data": {
      "image/png": "[encoded data removed]",
      "text/plain": [
       "<Figure size 432x288 with 1 Axes>"
      ]
     },
     "metadata": {
      "needs_background": "light"
     },
     "output_type": "display_data"
    },
    {
     "name": "stdout",
     "output_type": "stream",
     "text": [
      "ratio of resolved to total irreversible entropy generation rate = 93.87083636095973%\n"
     ]
    }
   ],
   "source": [
    "plt.figure(2)\n",
    "iplot = 80\n",
    "plt.bar([0,1],[irrev_entropy_flux[iplot,0],resolved_diss[iplot,0]], \n",
    "        tick_label=['total irreversible entropy','resolved entropy generation rate'],color=['r','k'])\n",
    "plt.title('cumulative entropy budget at x = '+str(xpos[iplot]))\n",
    "plt.show()\n",
    "\n",
    "print('ratio of resolved to total irreversible entropy generation rate = ' \n",
    "      + str(100*resolved_diss[iplot,0]/irrev_entropy_flux[iplot,0]) + '%')\n"
   ]
  },
  {
   "cell_type": "markdown",
   "metadata": {},
   "source": [
    "\n",
    "The table below shows the resolved and total irreversible entropy generation for the 3 meshes described above. Increasing mesh resolution increases the amount of resolved dissipation from around 87 percent with the 28 million point mesh to around 94 percent for the 151 million point mesh.\n",
    "\n",
    "You can see that the total irreversible entropy generation is relatively insensitive, compared to the resolved dissipation. The variations in total irreversible entropy are around 2 percent, while the resolved dissipation varies by around 9 percent. This is good news because it tells us that we can get high quality predictions by capturing around 90 percent of the dissipation. Increasing the number of mesh points will not improve the performance prediction and will cost a great deal more. The entropy budget analysis shows us that capturing the remaining 10 percent is not going to give us an improvement in performance prediction.\n",
    "\n",
    "Furthermore, it is very encouraging that we achieve a very good level of accuracy even with the 28 million point mesh. This is further justification for running cases on a relatively modest mesh size first, before scaling the mesh size up. We can learn a lot about the flow even on a modest size mesh.\n",
    "\n",
    "| Mesh points | total irreversible entropy flux (W/K) | resolved entropy generation (W/K) | ratio (as $\\%$) |\n",
    "|-|-|-|-|   \n",
    "|28468608 |8.8218|7.6412|86.6|\n",
    "|68856368 |8.9819|8.1646|90.9|\n",
    "|151350416|8.8609|8.3178|93.9|\n",
    "\n"
   ]
  },
  {
   "cell_type": "markdown",
   "metadata": {},
   "source": [
    "We can also plot the entropy generation rate profile within the boundary layer. The next cell plots the terms in the entropy budget at a point in the suction-side boundary layer.\n"
   ]
  },
  {
   "cell_type": "code",
   "execution_count": 6,
   "metadata": {},
   "outputs": [
    {
     "data": {
      "image/png": "[encoded data removed]",
      "text/plain": [
       "<Figure size 432x288 with 1 Axes>"
      ]
     },
     "metadata": {
      "needs_background": "light"
     },
     "output_type": "display_data"
    }
   ],
   "source": [
    "plt.figure(1)\n",
    "ib = 5 # suction-surface\n",
    "iplot = -10 # i-index for plotting\n",
    "\n",
    "x = geom[ib-1]['x'][iplot,:]\n",
    "y = geom[ib-1]['y'][iplot,:]\n",
    "\n",
    "# distance to wall\n",
    "yn = np.sqrt((x-x[-1])**2.0 + (y-y[-1])**2.0)\n",
    "\n",
    "plt.semilogx(yn,prop[ib-1]['Dsi'][iplot,:],'-r.')\n",
    "plt.semilogx(yn,prop[ib-1]['dissT'][iplot,:],'-k.')\n",
    "plt.semilogx(yn,prop[ib-1]['Ds'][iplot,:],'-b.')\n",
    "plt.semilogx(yn,prop[ib-1]['Dsr'][iplot,:],'-g.')\n",
    "plt.semilogx(yn,prop[ib-1]['Dsi'][iplot,:]-prop[ib-1]['dissT'][iplot,:],'--k')\n",
    "\n",
    "plt.title('Entropy generation rates, suction surface x = '+str(np.floor(x[-1]*100.0)/100))\n",
    "plt.legend(['Total irreversible $Ds_{irrev}/Dt$',\n",
    "            'Resolved $\\phi/T$',\n",
    "            'Entropy flux derivative Ds/Dt',\n",
    "            'Heat transfer contribution -$div(q/T)$',\n",
    "            'Unresolved (by difference)'])\n",
    "\n",
    "plt.show()\n"
   ]
  },
  {
   "cell_type": "markdown",
   "metadata": {},
   "source": [
    "It is interesting to see that the entropy flux term $\\rho Ds/Dt$ peaks at around $y^+\\simeq10$ and tends to zero at the wall; this is because the flow speed at the wall is zero and therefore there is no entropy flux. While the entropy flux is zero, the irreversible entropy generation rate is not and this is because the heat-transfer term $\\nabla \\cdot (q/T)$ is equal and opposite to the dissipation term $\\phi/T$. At first it seems surprising that for an adiabatic case such as this, that the heat transfer term should be of similar magnitude to the dissipation; although the first derivative of temperature at the wall is zero (set by the adiabatic condition) the second derivative must balance the dissipation for a no-slip wall. \n"
   ]
  },
  {
   "cell_type": "markdown",
   "metadata": {},
   "source": [
    "\n",
    "---\n",
    "\n",
    "## 3.4 Check the cell size against Kolmogorov length scale\n",
    "\n",
    "Now that we are confident that we are capturing the vast majority of the resolved dissipation, we can assess our mesh resolution once again. The dissipation can be used to estimate the Kolmogorov length-scale and using this we can determine mesh resolution. Whereas the near-wall cell aspect ratios should be in the region of $10-15$, the free-stream cell aspect ratios ought to be around 1. It therefore follows that the free-stream cell sizes will be around 10 in $+$ units. This is quite different to most RANS calculations where coarsening the mesh in the freestream is a sensible approach to reducing compute costs. In DNS, this will lead to poor resolution of turbulence within the passage and lead to higher frequency (smaller wavelength) turbulence being dissipated prematurely or incurring dispersion errors. In regions where the turbulence is likely to be more isotropic (such as in the far wake of a blade), a rule of thumb is to set cell lengths to be within 10 Kolmogorov length-scales. \n",
    "\n",
    "We can compute turbulent dissipation from the time-average dissipation:\n",
    "$\\begin{equation}\n",
    "\\eta =\\left({\\frac {\\nu ^{3}}{\\varepsilon }}\\right)^{1/4}\n",
    "\\end{equation}$\n",
    "\n",
    "where $\\varepsilon = \\overline{\\phi} - \\Phi$, is the turbulent dissipation and $\\Phi$ is the dissipation due to the time-mean strain computed from the time-average flow field. \n",
    "\n",
    "As discussed above, poorly-resolved simulations will tend to underestimate the predicted dissipation and will thus overestimate $\\eta$, giving an unreliably optimistic estimate of cell sizes. Therefore the estimation of the Kolmogorov length-scale should be treated with some caution.\n",
    "\n",
    "The cell below plots the ratio of the cell length $\\Delta_{cell}$ to the Kolmogorov length scale $\\eta$ using the method described above. The cell length $\\Delta_{cell}$ is taken as the square root of the cell in the blade-to-blade plane. For the typical mesh sizes shown here, you will find  cell sizes $\\Delta_{cell}<5\\eta$, further confirming the cases are well resolved.\n"
   ]
  },
  {
   "cell_type": "code",
   "execution_count": 9,
   "metadata": {},
   "outputs": [
    {
     "data": {
      "text/plain": [
       "<module 'matplotlib.pyplot' from '/home/aw329/.local/lib/python3.6/site-packages/matplotlib/pyplot.py'>"
      ]
     },
     "execution_count": 9,
     "metadata": {},
     "output_type": "execute_result"
    },
    {
     "data": {
      "image/png": "[encoded data removed]",
      "text/plain": [
       "<Figure size 432x288 with 2 Axes>"
      ]
     },
     "metadata": {
      "needs_background": "light"
     },
     "output_type": "display_data"
    }
   ],
   "source": [
    "from postpro.plot_flo import *\n",
    "\n",
    "# set the casename \n",
    "casename = 'notebook3/mesh1'\n",
    "\n",
    "# read the mean flow\n",
    "prop,geom,_=read_2d_mean(casename,[6]);\n",
    "\n",
    "# plot the ratio of L_kol to cell size\n",
    "plot_flo(prop,geom,'res',[0,5])"
   ]
  },
  {
   "cell_type": "markdown",
   "metadata": {},
   "source": [
    "\n",
    "\n",
    "You are now ready to move to Notebook 4 where we make use of the DNS data to perform RANS simulations.\n",
    "\n",
    "\n",
    "---\n",
    "\n",
    "## Appendix\n",
    "\n",
    "The cell below is an example of how you might compare several cases."
   ]
  },
  {
   "cell_type": "code",
   "execution_count": 392,
   "metadata": {},
   "outputs": [
    {
     "name": "stdout",
     "output_type": "stream",
     "text": [
      "notebook3/mesh1 28468608 0.1728033 0.022763319495959448\n",
      "notebook3/mesh2 68856368 0.18594998 0.024103485839857483\n",
      "notebook3/mesh3 151350416 0.13818106 0.02280069764988225\n"
     ]
    }
   ],
   "source": [
    "import numpy as np\n",
    "import matplotlib.pyplot as plt\n",
    "import os\n",
    "\n",
    "from postpro.read_2d_mean import *\n",
    "from postpro.yp import *\n",
    "\n",
    "# pop-out figures\n",
    "%matplotlib qt\n",
    "\n",
    "path = os.getcwd()\n",
    "\n",
    "\n",
    "casenames = ['notebook3/mesh1','notebook3/mesh2','notebook3/mesh3']\n",
    "colours = ['k','b','r']\n",
    "\n",
    "\n",
    "inlet = {}\n",
    "exit = {}\n",
    "\n",
    "inlet['blocks'] = [1,2]\n",
    "exit['blocks'] = [8,9]\n",
    "\n",
    "inlet['x']= -0.5 # avoid buffer regions near inlet bc\n",
    "exit['x'] = 1.25 # avoid buffer regions near exit bc\n",
    "\n",
    "plt.figure(1)\n",
    "Yp = np.zeros(len(casenames))\n",
    "points = np.zeros(len(casenames))\n",
    "for n,casename in enumerate(casenames):\n",
    "    c = colours[n]\n",
    "    \n",
    "    # read block dimensions  \n",
    "    nijk = np.genfromtxt(os.path.join(path,casename,'blockdims.txt'),dtype=int)\n",
    "    npts = np.sum(nijk[:,0]*nijk[:,1]*nijk[:,2])\n",
    "    \n",
    "    # make sure nfiles is set to avoid any \n",
    "    # initial transients and is sufficient for statistical convergence\n",
    "    prop,geom,time=read_2d_mean(casename,[6]);\n",
    "    perf = yp(prop,geom,inlet,exit);\n",
    "    wake = perf['wake']\n",
    "    y = wake['y']\n",
    "    y_p = wake['yp']\n",
    "    # periodic repeat\n",
    "    y = np.append(y,y+1)\n",
    "    y_p = np.append(y_p,y_p)       \n",
    "    plt.plot(y,y_p,c)\n",
    "    Yp[n] = perf['yp']\n",
    "    points[n] = npts/1e6\n",
    "    print(casename,npts,time,Yp[n])\n",
    "    \n",
    "plt.legend(points.astype(int))\n",
    "    \n",
    "plt.ylabel('Yp')\n",
    "plt.xlabel('fraction of pitch')\n",
    "plt.show()\n",
    "\n",
    "plt.figure(2)\n",
    "plt.plot(points,Yp)\n",
    "plt.ylabel('Yp')\n",
    "plt.xlabel('million points')\n",
    "plt.show()\n",
    "\n",
    "\n"
   ]
  },
  {
   "cell_type": "code",
   "execution_count": null,
   "metadata": {},
   "outputs": [],
   "source": []
  },
  {
   "cell_type": "code",
   "execution_count": null,
   "metadata": {},
   "outputs": [],
   "source": []
  }
 ],
 "metadata": {
  "kernelspec": {
   "display_name": "Python 3",
   "language": "python",
   "name": "python3"
  },
  "language_info": {
   "codemirror_mode": {
    "name": "ipython",
    "version": 3
   },
   "file_extension": ".py",
   "mimetype": "text/x-python",
   "name": "python",
   "nbconvert_exporter": "python",
   "pygments_lexer": "ipython3",
   "version": "3.6.9"
  }
 },
 "nbformat": 4,
 "nbformat_minor": 2
}
