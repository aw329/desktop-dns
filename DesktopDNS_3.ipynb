{
 "cells": [
  {
   "cell_type": "markdown",
   "metadata": {},
   "source": [
    "# Desktop DNS Notebook 3\n",
    "\n"
   ]
  },
  {
   "cell_type": "markdown",
   "metadata": {},
   "source": [
    "## Check resolution and mesh quality"
   ]
  },
  {
   "cell_type": "code",
   "execution_count": 1,
   "metadata": {},
   "outputs": [],
   "source": [
    "# reload modules\n",
    "%reload_ext autoreload\n",
    "%autoreload 2\n"
   ]
  },
  {
   "cell_type": "code",
   "execution_count": null,
   "metadata": {},
   "outputs": [],
   "source": []
  },
  {
   "cell_type": "markdown",
   "metadata": {},
   "source": [
    "## 3.1 Interpolating onto a finer mesh\n",
    "\n",
    "### 3.1.1 First create a finer mesh\n",
    "\n",
    "Use the refinement factor below to increase the mesh resolution. The refinement factor 'refine_fac' multiplies the grid size in each i,j,k direction. You can also adjust the near wall cell size; 'ywall' sets the wall normal cell height for the cell adjacent to the viscous walls."
   ]
  },
  {
   "cell_type": "code",
   "execution_count": 9,
   "metadata": {},
   "outputs": [
    {
     "name": "stdout",
     "output_type": "stream",
     "text": [
      "gpu input file found\n",
      "2\n",
      "Writing inputs for 3dns_gpu\n",
      "Total ij points\n",
      "969808\n",
      "Total GPUs\n",
      "1\n",
      "Time:  206.96194834000198\n"
     ]
    }
   ],
   "source": [
    "import matplotlib.pyplot as plt\n",
    "import timeit\n",
    "\n",
    "from meshing.read_profile   import *\n",
    "from meshing.blade_mesher import *\n",
    "from meshing.read_case import *\n",
    "\n",
    "# pop-out figure\n",
    "%matplotlib qt\n",
    "\n",
    "# mesh refinement inputs\n",
    "refine_fac = 4.0 # the grid dimensions are scaled by this number in both directions\n",
    "ywall = 0.01/150 # the final near wall cell height\n",
    "msmooths = 100 # number of iterations for the poisson solver\n",
    "\n",
    "# set case names\n",
    "old_casename = 'notebook2'\n",
    "new_casename = 'notebook3'\n",
    "\n",
    "# read old casefiles\n",
    "case = read_case(old_casename)\n",
    "\n",
    "# case name and profile coordinates\n",
    "casename = new_casename\n",
    "case['casename'] = casename\n",
    "mesh   = {}\n",
    "mesh['case'] = casename\n",
    "mesh['profile'] = 'geom/profile.txt'\n",
    "\n",
    "# initial mesh inputs\n",
    "mesh['npp'] = 2*[None]\n",
    "mesh['ywall'] = 2*[None]\n",
    "mesh['msmooths'] = 2*[None]\n",
    "\n",
    "mesh['npp'][0] = 4\n",
    "mesh['Lup'] = 1.0\n",
    "mesh['Ldn'] = 1.0\n",
    "mesh['Lo'] = 0.2\n",
    "mesh['ywall'][0] = 0.001\n",
    "mesh['msmooths'][0] = 500\n",
    "mesh['cor_fac'] = 0.75 # factor shrinking multi-block corner cells - lower values give more shrinkage.\n",
    "\n",
    "# final mesh inputs\n",
    "mesh['npp'][1] = 28 # sets minimum points in any direction in smallest block\n",
    "mesh['refine_fac'] = refine_fac \n",
    "mesh['ywall'][1] =  ywall\n",
    "mesh['msmooths'][1] = msmooths\n",
    "\n",
    "# scale factor if used (set to 1.0 if not)\n",
    "mesh['scale_factor'] = 1.0\n",
    "\n",
    "# flip y coordinates\n",
    "mesh['flip'] = 1\n",
    "\n",
    "# modify solver inputs \n",
    "solver = case['solver']\n",
    "solver['niter'] = 100 # run for a few iterations to check all ok\n",
    "solver['irestart'] = 1 # 1 for restart\n",
    "solver['istats'] = 0 # switch-off statistics\n",
    "solver['span'] = 0.1 # spanwise extent for 3D calcs - typically 10-20% of chord\n",
    "solver['nk'] = 25 # new spanwise points for 3D calculation \n",
    "bcs = case['bcs']\n",
    "gas = case['gas']\n",
    "\n",
    "\n",
    "# create mesh and initial case files\n",
    "start = timeit.default_timer()\n",
    "blk = blade_mesher(mesh,bcs,gas,solver)\n",
    "stop = timeit.default_timer()\n",
    "\n",
    "print('Time: ', stop - start)  \n",
    "\n",
    "\n"
   ]
  },
  {
   "cell_type": "code",
   "execution_count": null,
   "metadata": {},
   "outputs": [],
   "source": []
  },
  {
   "cell_type": "markdown",
   "metadata": {},
   "source": [
    "### 3.1.2 Interpolate onto the fine mesh\n",
    "\n",
    "Now we can interpolate the solution from the coarse mesh onto the new fine mesh. \n"
   ]
  },
  {
   "cell_type": "code",
   "execution_count": 12,
   "metadata": {
    "scrolled": true
   },
   "outputs": [
    {
     "name": "stdout",
     "output_type": "stream",
     "text": [
      "gpu input file found\n",
      "2\n",
      "gpu input file found\n",
      "2\n"
     ]
    }
   ],
   "source": [
    "from postpro.interp_flo import *\n",
    "from meshing.write_flo import *\n",
    "from meshing.write_case import *\n",
    "\n",
    "# interpolate old flow files onto new grid\n",
    "prop = interp_flo(old_casename,new_casename)\n",
    "\n",
    "# write the new flo files\n",
    "write_flo(prop,new_casename)\n",
    "\n",
    "\n",
    "\n"
   ]
  },
  {
   "cell_type": "code",
   "execution_count": null,
   "metadata": {},
   "outputs": [],
   "source": []
  },
  {
   "cell_type": "markdown",
   "metadata": {},
   "source": [
    "Check the case"
   ]
  },
  {
   "cell_type": "code",
   "execution_count": 24,
   "metadata": {},
   "outputs": [
    {
     "name": "stdout",
     "output_type": "stream",
     "text": [
      "gpu input file found\n",
      "2\n"
     ]
    }
   ],
   "source": [
    "from postpro.read_flo import *\n",
    "from postpro.plot_flo import *\n",
    "\n",
    "# case name\n",
    "casename = 'notebook3'\n",
    "\n",
    "# read flo\n",
    "prop,geom=read_flo(casename)\n",
    "\n",
    "\n"
   ]
  },
  {
   "cell_type": "code",
   "execution_count": 25,
   "metadata": {},
   "outputs": [
    {
     "data": {
      "text/plain": [
       "<module 'matplotlib.pyplot' from '/home/aw329/.local/lib/python3.6/site-packages/matplotlib/pyplot.py'>"
      ]
     },
     "execution_count": 25,
     "metadata": {},
     "output_type": "execute_result"
    }
   ],
   "source": [
    "\n",
    "plot_flo(prop,geom,'vortz',[-1000,1000])\n",
    "#plot_flo(prop,geom,'p',[0.96e5,1.0e5])\n",
    "#plot_flo(prop,geom,'po',[0.96e5,1.0e5])\n"
   ]
  },
  {
   "cell_type": "code",
   "execution_count": 26,
   "metadata": {},
   "outputs": [],
   "source": [
    "wall_blocks = [3,4,5,7]\n",
    "\n",
    "plt.figure(1)\n",
    "for i in wall_blocks:\n",
    "    plt.plot(geom[i-1]['x'][:,-1],prop[i-1]['p'][:,-1,0],'-k.')\n",
    "\n",
    "plt.show()\n"
   ]
  },
  {
   "cell_type": "code",
   "execution_count": 23,
   "metadata": {},
   "outputs": [
    {
     "name": "stdout",
     "output_type": "stream",
     "text": [
      "gpu input file found\n",
      "2\n"
     ]
    }
   ],
   "source": [
    "## Plot the monitor file\n",
    "\n",
    "from postpro.plot_monitor import *\n",
    "\n",
    "plot_monitor(casename);"
   ]
  },
  {
   "cell_type": "code",
   "execution_count": null,
   "metadata": {},
   "outputs": [],
   "source": []
  },
  {
   "cell_type": "code",
   "execution_count": 29,
   "metadata": {},
   "outputs": [
    {
     "name": "stdout",
     "output_type": "stream",
     "text": [
      "gpu input file found\n",
      "2\n"
     ]
    }
   ],
   "source": [
    "## Check spectrum\n",
    "\n",
    "from postpro.plot_spectrum import *\n",
    "\n",
    "plot_spectrum(casename,[1,2],20);"
   ]
  },
  {
   "cell_type": "code",
   "execution_count": null,
   "metadata": {},
   "outputs": [],
   "source": []
  },
  {
   "cell_type": "code",
   "execution_count": null,
   "metadata": {},
   "outputs": [],
   "source": []
  },
  {
   "cell_type": "code",
   "execution_count": null,
   "metadata": {},
   "outputs": [],
   "source": []
  }
 ],
 "metadata": {
  "kernelspec": {
   "display_name": "Python 3",
   "language": "python",
   "name": "python3"
  },
  "language_info": {
   "codemirror_mode": {
    "name": "ipython",
    "version": 3
   },
   "file_extension": ".py",
   "mimetype": "text/x-python",
   "name": "python",
   "nbconvert_exporter": "python",
   "pygments_lexer": "ipython3",
   "version": "3.6.9"
  }
 },
 "nbformat": 4,
 "nbformat_minor": 2
}
