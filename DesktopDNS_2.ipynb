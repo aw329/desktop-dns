{
 "cells": [
  {
   "cell_type": "markdown",
   "metadata": {},
   "source": [
    "# Desktop DNS Notebook 2\n",
    "\n",
    "## 2.1 Checking the current case\n",
    "\n",
    "### 2.1.1 Reading in the case files\n",
    "First let's start with reading in the current case and viewing the flow."
   ]
  },
  {
   "cell_type": "code",
   "execution_count": 2,
   "metadata": {},
   "outputs": [],
   "source": [
    "# reload modules\n",
    "%reload_ext autoreload\n",
    "%autoreload 2\n",
    "\n",
    "# pop-out figure\n",
    "%matplotlib qt"
   ]
  },
  {
   "cell_type": "code",
   "execution_count": 3,
   "metadata": {},
   "outputs": [
    {
     "name": "stdout",
     "output_type": "stream",
     "text": [
      "gpu input file found\n",
      "2\n"
     ]
    }
   ],
   "source": [
    "from postpro.read_flo import *\n",
    "from postpro.plot_flo import *\n",
    "\n",
    "# case name\n",
    "casename = 'notebook1'\n",
    "\n",
    "# read flo\n",
    "prop,geom=read_flo(casename)\n",
    "\n",
    "\n",
    "\n",
    "\n"
   ]
  },
  {
   "cell_type": "markdown",
   "metadata": {},
   "source": [
    "Plot the flow"
   ]
  },
  {
   "cell_type": "code",
   "execution_count": 4,
   "metadata": {},
   "outputs": [],
   "source": [
    "\n",
    "#plt = plot_flo(prop,geom,'vortz',[-1000,1000])\n",
    "\n",
    "plt = plot_flo(prop,geom,'p',[0.96e5,1.0e5])\n",
    "#plt = plot_flo(prop,geom,'po',[0.96e5,1.0e5])\n",
    "\n"
   ]
  },
  {
   "cell_type": "markdown",
   "metadata": {},
   "source": [
    "Plot the loading"
   ]
  },
  {
   "cell_type": "code",
   "execution_count": 15,
   "metadata": {},
   "outputs": [],
   "source": [
    "import matplotlib.pyplot as plt\n",
    "\n",
    "wall_blocks = [3,4,5,7]\n",
    "\n",
    "plt.figure(1)\n",
    "for i in wall_blocks:\n",
    "    plt.plot(geom[i-1]['x'][:,-1],prop[i-1]['p'][:,-1,0],'-k.')\n",
    "\n",
    "plt.show()\n"
   ]
  },
  {
   "cell_type": "markdown",
   "metadata": {},
   "source": [
    "Plot time history"
   ]
  },
  {
   "cell_type": "code",
   "execution_count": 61,
   "metadata": {},
   "outputs": [
    {
     "name": "stdout",
     "output_type": "stream",
     "text": [
      "gpu input file found\n",
      "2\n"
     ]
    }
   ],
   "source": [
    "## Plot the monitor file\n",
    "\n",
    "from postpro.plot_monitor import *\n",
    "\n",
    "plot_monitor(casename);"
   ]
  },
  {
   "cell_type": "code",
   "execution_count": null,
   "metadata": {},
   "outputs": [],
   "source": []
  },
  {
   "cell_type": "code",
   "execution_count": null,
   "metadata": {},
   "outputs": [],
   "source": []
  },
  {
   "cell_type": "code",
   "execution_count": 17,
   "metadata": {},
   "outputs": [],
   "source": [
    "\n",
    "plot_flo(prop,geom,'mach',[0,0.3])"
   ]
  },
  {
   "cell_type": "code",
   "execution_count": 19,
   "metadata": {},
   "outputs": [
    {
     "name": "stdout",
     "output_type": "stream",
     "text": [
      "gpu input file found\n",
      "2\n",
      "gpu input file found\n",
      "2\n"
     ]
    }
   ],
   "source": [
    "from postpro.boundarylayer import *\n",
    "\n",
    "\n",
    "boundarylayer(casename)\n"
   ]
  },
  {
   "cell_type": "code",
   "execution_count": null,
   "metadata": {},
   "outputs": [],
   "source": []
  },
  {
   "cell_type": "code",
   "execution_count": null,
   "metadata": {},
   "outputs": [],
   "source": []
  },
  {
   "cell_type": "code",
   "execution_count": null,
   "metadata": {},
   "outputs": [],
   "source": []
  },
  {
   "cell_type": "markdown",
   "metadata": {},
   "source": [
    "## Running in 3D"
   ]
  },
  {
   "cell_type": "code",
   "execution_count": null,
   "metadata": {},
   "outputs": [],
   "source": []
  },
  {
   "cell_type": "code",
   "execution_count": 21,
   "metadata": {},
   "outputs": [
    {
     "name": "stdout",
     "output_type": "stream",
     "text": [
      "gpu input file found\n",
      "2\n",
      "gpu input file found\n",
      "2\n",
      "Writing inputs for 3dns_gpu\n",
      "Total ij points\n",
      "73696\n",
      "Total GPUs\n",
      "1\n",
      "gpu input file found\n",
      "2\n",
      "Writing inputs for 3dns_gpu\n",
      "Total ij points\n",
      "73696\n",
      "Total GPUs\n",
      "1\n"
     ]
    }
   ],
   "source": [
    "from meshing.write_flo import *\n",
    "from meshing.write_case import *\n",
    "\n",
    "casename_old = 'notebook1'\n",
    "casename_new = 'notebook2'\n",
    "\n",
    "# read casefiles and flow from old directory\n",
    "case = read_case(casename_old)\n",
    "prop,_=read_flo(casename_old)\n",
    "\n",
    "# copy files to new directory\n",
    "case['casename'] = casename_new \n",
    "write_case(case)\n",
    "\n",
    "# write flow files to new directory\n",
    "write_flo(prop,casename_new)\n",
    "\n",
    "# set number of spanwise point\n",
    "case['solver']['nk'] = 15 # spanwise points for 3D calculation \n",
    "case['solver']['span'] = 0.1 # set the spanwise extent (in this case the axial chord is 1.0m, so span=10%cax)\n",
    "\n",
    "\n",
    "# adjust iterations \n",
    "case['solver']['niter'] = 10000 # total number of iterations\n",
    "case['solver']['irestart'] = 12 # restart the calculation with irestart=12, which extrudes the 2D flow\n",
    "case['casename'] = casename_new # copy files to new directory\n",
    "\n",
    "# write new case files\n",
    "write_case(case)\n",
    "\n",
    "\n"
   ]
  },
  {
   "cell_type": "markdown",
   "metadata": {},
   "source": [
    "## Re-start the 3D calcs"
   ]
  },
  {
   "cell_type": "code",
   "execution_count": 35,
   "metadata": {},
   "outputs": [
    {
     "name": "stdout",
     "output_type": "stream",
     "text": [
      "gpu input file found\n",
      "2\n",
      "Writing inputs for 3dns_gpu\n",
      "Total ij points\n",
      "73696\n",
      "Total GPUs\n",
      "1\n"
     ]
    }
   ],
   "source": [
    "\n",
    "casename = 'notebook2'\n",
    "\n",
    "# read casefiles\n",
    "case = read_case(casename)\n",
    "\n",
    "# adjust iterations \n",
    "case['solver']['niter'] = 10000 # total number of iterations\n",
    "case['solver']['irestart'] = 1 # restart the 3D calculation \n",
    "\n",
    "# write new case files\n",
    "write_case(case)"
   ]
  },
  {
   "cell_type": "code",
   "execution_count": null,
   "metadata": {},
   "outputs": [],
   "source": []
  },
  {
   "cell_type": "code",
   "execution_count": 5,
   "metadata": {},
   "outputs": [
    {
     "name": "stdout",
     "output_type": "stream",
     "text": [
      "gpu input file found\n",
      "2\n"
     ]
    }
   ],
   "source": [
    "\n",
    "# read flo\n",
    "prop,geom=read_flo(casename)"
   ]
  },
  {
   "cell_type": "code",
   "execution_count": 8,
   "metadata": {},
   "outputs": [],
   "source": [
    "\n",
    "plt = plot_flo(prop,geom,'w',[-5,5])"
   ]
  },
  {
   "cell_type": "code",
   "execution_count": null,
   "metadata": {},
   "outputs": [],
   "source": []
  },
  {
   "cell_type": "markdown",
   "metadata": {},
   "source": [
    "## Adding inflow turbulence \n",
    "\n",
    "\n"
   ]
  },
  {
   "cell_type": "code",
   "execution_count": 38,
   "metadata": {},
   "outputs": [
    {
     "name": "stdout",
     "output_type": "stream",
     "text": [
      "gpu input file found\n",
      "2\n",
      "Writing inputs for 3dns_gpu\n",
      "Total ij points\n",
      "73696\n",
      "Total GPUs\n",
      "1\n"
     ]
    }
   ],
   "source": [
    "from meshing.read_case import *\n",
    "from meshing.write_case import *\n",
    "\n",
    "# read casefiles\n",
    "case = read_case(casename)\n",
    "\n",
    "# adjust iterations \n",
    "case['solver']['niter'] = 100000 # total number of iterations\n",
    "case['solver']['irestart'] = 1 # restart the calculation with irestart=1\n",
    "\n",
    "# add inlet perturbations\n",
    "case['bcs']['aturb'] = 50.0 # amplification factor for turbulence\n",
    "case['bcs']['ilength'] = 500 # inlet turbulence generation frequency (no. steps)\n",
    "\n",
    "# write new case files\n",
    "write_case(case)\n"
   ]
  },
  {
   "cell_type": "markdown",
   "metadata": {},
   "source": [
    "\n",
    "### 2.1.2 Creating probe files\n",
    "Probe files are very useful for monitoring the flow development and convergence. The script below sets probes which are written by the solver."
   ]
  },
  {
   "cell_type": "code",
   "execution_count": 39,
   "metadata": {},
   "outputs": [],
   "source": [
    "from meshing.write_probe import *\n",
    "\n",
    "probe = {}\n",
    "probe['nprobe'] = 3 # 3 probes\n",
    "probe['nwrite'] = 10 # store every 10 iterations\n",
    "\n",
    "# probe 1 - in inlet\n",
    "probe[0] = {}\n",
    "probe[0]['block'] = 1 # block number \n",
    "probe[0]['i'] = 100 # i value\n",
    "probe[0]['j'] = 50 # j value\n",
    "probe[0]['k'] = 1  # k value\n",
    "\n",
    "# probe 2 - in exit\n",
    "probe[1] = {}\n",
    "probe[1]['block'] = 8\n",
    "probe[1]['i'] = 100\n",
    "probe[1]['j'] = 50\n",
    "probe[1]['k'] = 1\n",
    "\n",
    "# probe 3 - near suction surface\n",
    "probe[2] = {}\n",
    "probe[2]['block'] = 5\n",
    "probe[2]['i'] = 100\n",
    "probe[2]['j'] = 20\n",
    "probe[2]['k'] = 1\n",
    "\n",
    "# write probe.txt file\n",
    "write_probe(casename,probe)\n"
   ]
  },
  {
   "cell_type": "markdown",
   "metadata": {},
   "source": [
    "### 2.1.3 Reading and plotting probe files\n",
    "Now every time you run the solver the probe data will be written out into files called 'probe_#' where # is the probe number (in this case 1 and 2). The script below can be used to plot the probe data as a time series.\n"
   ]
  },
  {
   "cell_type": "code",
   "execution_count": 62,
   "metadata": {
    "scrolled": false
   },
   "outputs": [
    {
     "name": "stdout",
     "output_type": "stream",
     "text": [
      "gpu input file found\n",
      "2\n",
      "Probe 1 position\n",
      "x =  -0.39424704393697757\n",
      "y =  0.06488748686689526\n",
      "Probe 2 position\n",
      "x =  1.739573584997901\n",
      "y =  0.8455891840318108\n",
      "Probe 3 position\n",
      "x =  0.38613911521680955\n",
      "y =  0.3951722365638744\n"
     ]
    }
   ],
   "source": [
    "#import matplotlib.pyplot as plt\n",
    "from postpro.read_probe import *\n",
    "\n",
    "probe = read_probe(casename)\n",
    "\n",
    "plt.figure(1)\n",
    "for i in range(len(probe)):\n",
    "    # plot the probe data\n",
    "    print('Probe ' + str(i+1) + ' position')\n",
    "    print('x = ', probe[i]['x'])\n",
    "    print('y = ', probe[i]['y'])\n",
    "    \n",
    "    plt.subplot(1,3,i+1)\n",
    "    plt.plot(probe[i]['time'],probe[i]['vel'],'-k')\n",
    "    plt.title('probe ' + str(i+1))\n",
    "    plt.xlabel('Time (s)')\n",
    "    plt.ylabel('velocity (m/s)')\n",
    "    \n",
    "plt.show()\n",
    "\n"
   ]
  },
  {
   "cell_type": "code",
   "execution_count": null,
   "metadata": {},
   "outputs": [],
   "source": []
  },
  {
   "cell_type": "code",
   "execution_count": 9,
   "metadata": {},
   "outputs": [
    {
     "name": "stdout",
     "output_type": "stream",
     "text": [
      "gpu input file found\n",
      "2\n"
     ]
    }
   ],
   "source": [
    "from postpro.read_flo import *\n",
    "from postpro.plot_flo import *\n",
    "\n",
    "casename = 'notebook2'\n",
    "\n",
    "# read flo\n",
    "prop,geom=read_flo(casename)"
   ]
  },
  {
   "cell_type": "code",
   "execution_count": 10,
   "metadata": {},
   "outputs": [
    {
     "data": {
      "text/plain": [
       "<module 'matplotlib.pyplot' from '/home/aw329/.local/lib/python3.6/site-packages/matplotlib/pyplot.py'>"
      ]
     },
     "execution_count": 10,
     "metadata": {},
     "output_type": "execute_result"
    }
   ],
   "source": [
    "plot_flo(prop,geom,'w',[-5,5])"
   ]
  },
  {
   "cell_type": "markdown",
   "metadata": {},
   "source": [
    "## Gathering statistics"
   ]
  },
  {
   "cell_type": "code",
   "execution_count": 50,
   "metadata": {},
   "outputs": [
    {
     "name": "stdout",
     "output_type": "stream",
     "text": [
      "gpu input file found\n",
      "2\n",
      "Writing inputs for 3dns_gpu\n",
      "Total ij points\n",
      "73696\n",
      "Total GPUs\n",
      "1\n"
     ]
    }
   ],
   "source": [
    "\n",
    "# read casefiles\n",
    "case = read_case(casename)\n",
    "\n",
    "# adjust iterations \n",
    "case['solver']['niter'] = 100000 # total number of iterations\n",
    "case['solver']['irestart'] = 1 # restart the calculation\n",
    "\n",
    "case['solver']['istats'] = 2 # switch-on time-averaging (istats=2 does a spanwise average as well for 2D stats)\n",
    "\n",
    "# write new case files\n",
    "write_case(case)"
   ]
  },
  {
   "cell_type": "markdown",
   "metadata": {},
   "source": [
    "### Read the mean flow"
   ]
  },
  {
   "cell_type": "code",
   "execution_count": 5,
   "metadata": {},
   "outputs": [
    {
     "name": "stdout",
     "output_type": "stream",
     "text": [
      "[0.10262726] 0.102627255 [2]\n",
      "gpu input file found\n",
      "2\n"
     ]
    }
   ],
   "source": [
    "from postpro.read_2d_mean import *\n",
    "from postpro.plot_flo import *\n",
    "\n",
    "casename = 'notebook2'\n",
    "\n",
    "prop,geom=read_2d_mean(casename,[1])\n",
    "\n",
    "\n"
   ]
  },
  {
   "cell_type": "code",
   "execution_count": 6,
   "metadata": {},
   "outputs": [
    {
     "data": {
      "text/plain": [
       "<module 'matplotlib.pyplot' from '/home/aw329/.local/lib/python3.6/site-packages/matplotlib/pyplot.py'>"
      ]
     },
     "execution_count": 6,
     "metadata": {},
     "output_type": "execute_result"
    }
   ],
   "source": [
    "\n",
    "plot_flo(prop,geom,'mach',[0,0.3])\n",
    "#plot_flo(prop,geom,'po',[0.96e5,1.01e5])\n"
   ]
  },
  {
   "cell_type": "markdown",
   "metadata": {},
   "source": [
    "### Plot the loading"
   ]
  },
  {
   "cell_type": "code",
   "execution_count": 23,
   "metadata": {},
   "outputs": [],
   "source": [
    "wall_blocks = [3,4,5,7]\n",
    "\n",
    "plt.figure(1)\n",
    "for i in wall_blocks:\n",
    "    plt.plot(geom[i-1]['x'][:,-1],prop[i-1]['p'][:,-1],'k.')\n",
    "\n",
    "plt.show()"
   ]
  },
  {
   "cell_type": "markdown",
   "metadata": {},
   "source": [
    "### Check resolution"
   ]
  },
  {
   "cell_type": "code",
   "execution_count": 65,
   "metadata": {},
   "outputs": [
    {
     "name": "stdout",
     "output_type": "stream",
     "text": [
      "gpu input file found\n",
      "2\n",
      "gpu input file found\n",
      "2\n"
     ]
    }
   ],
   "source": [
    "from postpro.boundarylayer import *\n",
    "\n",
    "\n",
    "bl =boundarylayer(casename);\n"
   ]
  },
  {
   "cell_type": "code",
   "execution_count": 66,
   "metadata": {},
   "outputs": [],
   "source": [
    "plt.figure(1)\n",
    "plt.plot(bl['ss']['x'],bl['ss']['xplus'],'-k.')\n",
    "plt.plot(bl['ss']['x'],bl['ss']['yplus'],'-b.')\n",
    "plt.plot(bl['ss']['x'],bl['ss']['zplus'],'-r.')\n",
    "\n",
    "plt.show()"
   ]
  },
  {
   "cell_type": "code",
   "execution_count": null,
   "metadata": {},
   "outputs": [],
   "source": []
  },
  {
   "cell_type": "markdown",
   "metadata": {},
   "source": [
    "## Check spectrum"
   ]
  },
  {
   "cell_type": "code",
   "execution_count": null,
   "metadata": {},
   "outputs": [],
   "source": []
  },
  {
   "cell_type": "code",
   "execution_count": 39,
   "metadata": {
    "scrolled": true
   },
   "outputs": [
    {
     "name": "stdout",
     "output_type": "stream",
     "text": [
      "gpu input file found\n",
      "2\n"
     ]
    }
   ],
   "source": [
    "from postpro.plot_spectrum import *\n",
    "\n",
    "\n",
    "plot_spectrum(casename,[1,2],20);"
   ]
  },
  {
   "cell_type": "markdown",
   "metadata": {},
   "source": [
    "## 2.3 Running in 3D\n",
    "### 2.3.1 Set-up the initial case files\n",
    "\n",
    "To restart a 3D calculation from a 2D calculation, set irestart=12. This extrudes the 2D solution in the spanwise direction. You also need to set the span and number of spanwise points. Typically set a span of around 10-20 percent of chord.\n"
   ]
  },
  {
   "cell_type": "markdown",
   "metadata": {},
   "source": [
    "### 2.3.2 Check the initial 3D flow"
   ]
  },
  {
   "cell_type": "markdown",
   "metadata": {},
   "source": [
    "### 2.3.3 Re-start the 3D flow"
   ]
  },
  {
   "cell_type": "markdown",
   "metadata": {},
   "source": [
    "## 2.4 Setting-up the inflow turbulence\n",
    "\n",
    "### 2.4.1 Creating the inflow turbulence file\n",
    "In this section we create the inflow turbulence file using the 'turbid' program. This is based on the method of Philips and Fyfe. The code produces filtered random numbers using a gaussian filter to give spatial correlation to the values. The filter width and length scale sets the spectrum - increasing the filter width gives a larger range of scales, while increasing the length scales shifts the spectrum to lower frequencies (larger wavelengths). \n",
    "\n",
    "\n"
   ]
  },
  {
   "cell_type": "markdown",
   "metadata": {},
   "source": [
    "Navigate to the case folder\n",
    "\n",
    "> cd notebook2\n",
    "\n",
    "Make sure the turbulence generator 'turbid' is in the case folder or on your path.\n",
    "\n",
    "Now run the turbulence generator \n",
    "\n",
    "> ./turbid\n",
    "\n",
    "### 2.4.2 Running with inflow turbulence\n",
    "\n",
    "Once turbid has finished, you should see a file call 'inflow_turb.dat' in the case directory. This file holds the velocity perturbations that will be imposed at the inlet to the domain.\n",
    "\n",
    "The perturbations are normalized to have a standard deviation of 1.0. This means that you need to scale the value of the parameter bcs['aturb'] to achieve a desired turbulence intensity- the perturbations are multiplied by this number during the solution. \n",
    "\n",
    "It is important to note that the inlet boundary condition method applies a characteristic condition over the first 20 i-points in the inlet domain. \n",
    "\n",
    "Within this buffer region the amplitude of the incoming waves is set to impose the turbulence fluctuations. The effect of this buffer region means that in this region the flow does not obey the true Navier-Stokes behaviour and so these regions should not be included in any post-processing (such as to compute loss).\n",
    "\n",
    "It is also important to determine the actual spectra imposed by computing the statistics downstream of this region. This can be done with the probe data and also the 3D flow field. \n",
    "\n",
    "Once the inflow turbulence file has been generated, modify the case files (as shown below) and re-start the calculation.\n"
   ]
  },
  {
   "cell_type": "markdown",
   "metadata": {},
   "source": [
    "\n",
    "It is important to note:\n",
    "* The size of the inflow turbulence file must match the inlet dimensions in the j-k plane. Therefore if the grid is modified, a new inflow turbulence file will be needed. The script above can be used for this.\n",
    "* $l_{turb}$ is the axial spacing of inflow turbulence slices- typically set to ~ (pitch) / (total pitchwise points) \n",
    "* The inflow turbulence file is read in with a freqency $f=(u_{ref}/l_{turb})$, where $u_{ref}$ is the axial velocity at inlet $u_{ref}=v_{in} \\cos(\\alpha_{in})$.  \n",
    "* ilength sets the number of axial slices to read in before the turbulence file is rewound to the start. Setting short lengths will reduce the inflow turbulence file but give poor spectra. Typically set this to around 500.\n",
    "\n",
    "\n",
    "The values in the inflow turbulence file are not a solution to the Navier-Stokes equations and so there will be some development length required for the flow to become truly turbulent. Furthermore, the nature of the characteristic boundary condition applied in the inlet region means that the initial development of the flow close to the inlet should be treated as being to some extent 'non-physical'.\n",
    "\n",
    "An accurate determination of the inflow spectrum must therefore be computed using data some distance downstream of the inlet domain (typically > 50 points from the inlet)."
   ]
  },
  {
   "cell_type": "code",
   "execution_count": 15,
   "metadata": {},
   "outputs": [],
   "source": [
    "  "
   ]
  },
  {
   "cell_type": "code",
   "execution_count": null,
   "metadata": {},
   "outputs": [],
   "source": []
  }
 ],
 "metadata": {
  "kernelspec": {
   "display_name": "Python 3",
   "language": "python",
   "name": "python3"
  },
  "language_info": {
   "codemirror_mode": {
    "name": "ipython",
    "version": 3
   },
   "file_extension": ".py",
   "mimetype": "text/x-python",
   "name": "python",
   "nbconvert_exporter": "python",
   "pygments_lexer": "ipython3",
   "version": "3.6.9"
  }
 },
 "nbformat": 4,
 "nbformat_minor": 2
}
